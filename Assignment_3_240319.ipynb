{
  "cells": [
    {
      "cell_type": "markdown",
      "id": "24207269",
      "metadata": {
        "id": "24207269"
      },
      "source": [
        "**BEFORE ANYTHING, IMPORT THE NECESSARY LIBRARIES**"
      ]
    },
    {
      "cell_type": "code",
      "execution_count": null,
      "id": "02784feb",
      "metadata": {
        "id": "02784feb"
      },
      "outputs": [],
      "source": [
        "# ENTER YOUR CODE HERE"
      ]
    },
    {
      "cell_type": "markdown",
      "id": "5a800a53",
      "metadata": {
        "id": "5a800a53"
      },
      "source": [
        "## SUPERVISED LEARNING\n",
        "\n",
        "As described in class, the datapoints used in supervised learning are associated with output labels which are used for training. The models trained are then used to predict on similar unseen data to produce similar labels.\n",
        "\n",
        "Supervised learning is broadly divided into two parts:\n",
        "- Regression: The output labels are continuous in nature.\n",
        "\n",
        "*(Content shortened for brevity)*"
      ]
    },
    {
      "cell_type": "markdown",
      "id": "607c978c",
      "metadata": {
        "id": "607c978c"
      },
      "source": [
        "### BINARY CLASSIFICATION"
      ]
    },
    {
      "cell_type": "code",
      "execution_count": null,
      "id": "9c70ed1f",
      "metadata": {
        "colab": {
          "base_uri": "https://localhost:8080/"
        },
        "id": "9c70ed1f",
        "outputId": "8e7b16cf-3bbf-4449-bcce-d7f96c4a5130"
      },
      "outputs": [
        {
          "output_type": "stream",
          "name": "stdout",
          "text": [
            "Downloading...\n",
            "From: https://drive.google.com/uc?id=1nkDc4tAv7yMASRSLkbRAttr8qSG5dmcP\n",
            "To: /content/nba_logreg.csv\n",
            "\r  0% 0.00/129k [00:00<?, ?B/s]\r100% 129k/129k [00:00<00:00, 27.0MB/s]\n"
          ]
        }
      ],
      "source": [
        "! gdown 1nkDc4tAv7yMASRSLkbRAttr8qSG5dmcP"
      ]
    },
    {
      "cell_type": "markdown",
      "id": "c4d28724",
      "metadata": {
        "id": "c4d28724"
      },
      "source": [
        "**Import the csv file `NBA_logreg.csv` as a Pandas dataframe.**"
      ]
    },
    {
      "cell_type": "code",
      "execution_count": null,
      "id": "2c1b6498",
      "metadata": {
        "id": "2c1b6498"
      },
      "outputs": [],
      "source": [
        "import pandas as pd\n",
        "df = pd.read_csv('/content/nba_logreg.csv')"
      ]
    },
    {
      "cell_type": "markdown",
      "id": "79e44a91",
      "metadata": {
        "id": "79e44a91"
      },
      "source": [
        "**Lets analyse the data a tiny bit!**\n",
        "\n",
        "**What are the no. of rows and columns in the dataset?**"
      ]
    },
    {
      "cell_type": "code",
      "execution_count": null,
      "id": "5deeb95d",
      "metadata": {
        "id": "5deeb95d"
      },
      "outputs": [],
      "source": [
        "#ENTER YOUR CODE HERE"
      ]
    },
    {
      "cell_type": "code",
      "execution_count": null,
      "id": "c03ea035",
      "metadata": {
        "id": "c03ea035",
        "colab": {
          "base_uri": "https://localhost:8080/"
        },
        "outputId": "79954e22-3eee-4308-de22-601c74f874a6"
      },
      "outputs": [
        {
          "output_type": "stream",
          "name": "stdout",
          "text": [
            "Number of rows : 1340 Number of columns :21 \n"
          ]
        }
      ],
      "source": [
        "print(f\"Number of rows : {df.shape[0]} Number of columns :{df.shape[1]} \")"
      ]
    },
    {
      "cell_type": "markdown",
      "id": "e1fc454b",
      "metadata": {
        "id": "e1fc454b"
      },
      "source": [
        "**What are the columns?**"
      ]
    },
    {
      "cell_type": "code",
      "execution_count": null,
      "id": "9b8d2501",
      "metadata": {
        "id": "9b8d2501"
      },
      "outputs": [],
      "source": [
        "#ENTER YOUR CODE HERE"
      ]
    },
    {
      "cell_type": "code",
      "execution_count": null,
      "id": "9a8edaea",
      "metadata": {
        "colab": {
          "base_uri": "https://localhost:8080/"
        },
        "id": "9a8edaea",
        "outputId": "37ee5f25-617f-4b0f-97d7-3078aa1f8f0d"
      },
      "outputs": [
        {
          "output_type": "stream",
          "name": "stdout",
          "text": [
            "Index(['Name', 'GP', 'MIN', 'PTS', 'FGM', 'FGA', 'FG%', '3P Made', '3PA',\n",
            "       '3P%', 'FTM', 'FTA', 'FT%', 'OREB', 'DREB', 'REB', 'AST', 'STL', 'BLK',\n",
            "       'TOV', 'TARGET_5Yrs'],\n",
            "      dtype='object')\n"
          ]
        }
      ],
      "source": [
        "print(df.columns)"
      ]
    },
    {
      "cell_type": "markdown",
      "id": "66a887a8",
      "metadata": {
        "id": "66a887a8"
      },
      "source": [
        "**What does the beginning of the dataset look like?**"
      ]
    },
    {
      "cell_type": "code",
      "execution_count": null,
      "id": "726f194f",
      "metadata": {
        "id": "726f194f"
      },
      "outputs": [],
      "source": [
        "#ENTER YOUR CODE HERE"
      ]
    },
    {
      "cell_type": "code",
      "execution_count": null,
      "id": "16fd5296",
      "metadata": {
        "colab": {
          "base_uri": "https://localhost:8080/"
        },
        "id": "16fd5296",
        "outputId": "21ea2f1c-553f-4405-aa68-2fd0a6ee167b"
      },
      "outputs": [
        {
          "output_type": "stream",
          "name": "stdout",
          "text": [
            "              Name  GP   MIN  PTS  FGM  FGA   FG%  3P Made  3PA   3P%  ...  \\\n",
            "0   Brandon Ingram  36  27.4  7.4  2.6  7.6  34.7      0.5  2.1  25.0  ...   \n",
            "1  Andrew Harrison  35  26.9  7.2  2.0  6.7  29.6      0.7  2.8  23.5  ...   \n",
            "2   JaKarr Sampson  74  15.3  5.2  2.0  4.7  42.2      0.4  1.7  24.4  ...   \n",
            "3      Malik Sealy  58  11.6  5.7  2.3  5.5  42.6      0.1  0.5  22.6  ...   \n",
            "4      Matt Geiger  48  11.5  4.5  1.6  3.0  52.4      0.0  0.1   0.0  ...   \n",
            "\n",
            "   FTA   FT%  OREB  DREB  REB  AST  STL  BLK  TOV  TARGET_5Yrs  \n",
            "0  2.3  69.9   0.7   3.4  4.1  1.9  0.4  0.4  1.3          0.0  \n",
            "1  3.4  76.5   0.5   2.0  2.4  3.7  1.1  0.5  1.6          0.0  \n",
            "2  1.3  67.0   0.5   1.7  2.2  1.0  0.5  0.3  1.0          0.0  \n",
            "3  1.3  68.9   1.0   0.9  1.9  0.8  0.6  0.1  1.0          1.0  \n",
            "4  1.9  67.4   1.0   1.5  2.5  0.3  0.3  0.4  0.8          1.0  \n",
            "\n",
            "[5 rows x 21 columns]\n"
          ]
        }
      ],
      "source": [
        "print(df.head())"
      ]
    },
    {
      "cell_type": "markdown",
      "id": "46d06e9e",
      "metadata": {
        "id": "46d06e9e"
      },
      "source": [
        "Actually, the given dataset describes the player history of several NBA players. The column 'TARGET_5yrs' only contains the values 0 and 1, with 0 standing for players who played for less than 5 years, and 1 for players who played for more than or equal to 5 years. Thus, 0 and 1 stand for 2 classes- binary classification!"
      ]
    },
    {
      "cell_type": "markdown",
      "id": "8d12aaee",
      "metadata": {
        "id": "8d12aaee"
      },
      "source": [
        "**Clean the dataset. Drop the NaN values!**\n",
        "\n"
      ]
    },
    {
      "cell_type": "code",
      "execution_count": null,
      "id": "28ece2e4",
      "metadata": {
        "id": "28ece2e4"
      },
      "outputs": [],
      "source": [
        "#ENTER YOUR CODE HERE"
      ]
    },
    {
      "cell_type": "code",
      "execution_count": null,
      "id": "f24b7222",
      "metadata": {
        "id": "f24b7222"
      },
      "outputs": [],
      "source": [
        "df.dropna(inplace = True)"
      ]
    },
    {
      "cell_type": "markdown",
      "id": "c9b7facb",
      "metadata": {
        "id": "c9b7facb"
      },
      "source": [
        "**What is the shape of the dataframe now?**"
      ]
    },
    {
      "cell_type": "code",
      "execution_count": null,
      "id": "95387cfd",
      "metadata": {
        "id": "95387cfd"
      },
      "outputs": [],
      "source": [
        "#ENTER YOUR CODE HERE"
      ]
    },
    {
      "cell_type": "code",
      "execution_count": null,
      "id": "c33648e1",
      "metadata": {
        "colab": {
          "base_uri": "https://localhost:8080/"
        },
        "id": "c33648e1",
        "outputId": "b232b09f-142d-4bd7-ef00-44702cec11e7"
      },
      "outputs": [
        {
          "output_type": "stream",
          "name": "stdout",
          "text": [
            "Shape of the Data Frame now is : (1329, 21)\n"
          ]
        }
      ],
      "source": [
        "print(f\"Shape of the Data Frame now is : {df.shape}\")"
      ]
    },
    {
      "cell_type": "markdown",
      "id": "bfd92e27",
      "metadata": {
        "id": "bfd92e27"
      },
      "source": [
        "**For training, first create a dataframe that stores the columns to be used for training, and another dataframe that stores the labels.**"
      ]
    },
    {
      "cell_type": "code",
      "execution_count": null,
      "id": "bded72d3",
      "metadata": {
        "id": "bded72d3"
      },
      "outputs": [],
      "source": [
        "#ENTER YOUR CODE HERE"
      ]
    },
    {
      "cell_type": "code",
      "execution_count": null,
      "id": "adbb0ca7",
      "metadata": {
        "id": "adbb0ca7"
      },
      "outputs": [],
      "source": [
        "X = df.drop(['TARGET_5Yrs','Name'],axis = 1)\n",
        "Y = df['TARGET_5Yrs']"
      ]
    },
    {
      "cell_type": "markdown",
      "id": "8238d566",
      "metadata": {
        "id": "8238d566"
      },
      "source": [
        "It is considered best practice to divide the dataset into two parts- test and train(Search the internet for the reason- we'll ask in class :)).\n",
        "\n",
        "**Import the sklearn module that allows us to split the dataset into train and test.**"
      ]
    },
    {
      "cell_type": "code",
      "execution_count": null,
      "id": "d04adf77",
      "metadata": {
        "id": "d04adf77"
      },
      "outputs": [],
      "source": [
        "#ENTER YOUR CODE HERE\n",
        "from sklearn.model_selection import train_test_split"
      ]
    },
    {
      "cell_type": "markdown",
      "id": "a0942a8d",
      "metadata": {
        "id": "a0942a8d"
      },
      "source": [
        "**Now divide the features and label dataframes into train and test splits.**"
      ]
    },
    {
      "cell_type": "code",
      "execution_count": null,
      "id": "7ede286b",
      "metadata": {
        "id": "7ede286b"
      },
      "outputs": [],
      "source": [
        "#ENTER YOUR CODE HERE\n",
        "X_train,X_test,Y_train,Y_test = train_test_split(X,Y,test_size = 0.2)"
      ]
    },
    {
      "cell_type": "code",
      "execution_count": null,
      "id": "3e27d893",
      "metadata": {
        "colab": {
          "base_uri": "https://localhost:8080/"
        },
        "id": "3e27d893",
        "outputId": "32177bd3-1110-4ecc-8e4c-49fa08658e48"
      },
      "outputs": [
        {
          "output_type": "stream",
          "name": "stdout",
          "text": [
            "The shape of the training features dataframe is:(1063, 19)\n",
            "The shape of the testing features dataframe is:(266, 19)\n",
            "The shape of the training labels dataframe is:(1063,)\n",
            "The shape of the testing labels dataframe is:(266,)\n",
            "The train to test split ratio is: 3.9962406015037595\n"
          ]
        }
      ],
      "source": [
        "print(f\"The shape of the training features dataframe is:{X_train.shape}\")\n",
        "print(f\"The shape of the testing features dataframe is:{X_test.shape}\")\n",
        "print(f\"The shape of the training labels dataframe is:{Y_train.shape}\")\n",
        "print(f\"The shape of the testing labels dataframe is:{Y_test.shape}\")\n",
        "print(f\"The train to test split ratio is: {X_train.shape[0]/X_test.shape[0]}\")"
      ]
    },
    {
      "cell_type": "markdown",
      "id": "59967c23",
      "metadata": {
        "id": "59967c23"
      },
      "source": [
        "**Now load the sklearn module that allows the creation of a logistic regression model.**"
      ]
    },
    {
      "cell_type": "code",
      "execution_count": null,
      "id": "ec9140fb",
      "metadata": {
        "id": "ec9140fb"
      },
      "outputs": [],
      "source": [
        "#ENTER YOUR CODE HERE\n",
        "from sklearn.linear_model import LogisticRegression"
      ]
    },
    {
      "cell_type": "markdown",
      "id": "a7dcda82",
      "metadata": {
        "id": "a7dcda82"
      },
      "source": [
        "**Onto training! Train the a logistic regression model using the training features and labels dataframes.**"
      ]
    },
    {
      "cell_type": "code",
      "execution_count": null,
      "id": "3fdccd59",
      "metadata": {
        "id": "3fdccd59"
      },
      "outputs": [],
      "source": [
        "#ENTER YOUR CODE HERE"
      ]
    },
    {
      "cell_type": "code",
      "execution_count": null,
      "id": "1d6d2dc2",
      "metadata": {
        "id": "1d6d2dc2",
        "colab": {
          "base_uri": "https://localhost:8080/",
          "height": 80
        },
        "outputId": "eca339bd-ec78-4338-a7cf-9585f2e3e231"
      },
      "outputs": [
        {
          "output_type": "execute_result",
          "data": {
            "text/plain": [
              "LogisticRegression(max_iter=2500)"
            ],
            "text/html": [
              "<style>#sk-container-id-1 {\n",
              "  /* Definition of color scheme common for light and dark mode */\n",
              "  --sklearn-color-text: #000;\n",
              "  --sklearn-color-text-muted: #666;\n",
              "  --sklearn-color-line: gray;\n",
              "  /* Definition of color scheme for unfitted estimators */\n",
              "  --sklearn-color-unfitted-level-0: #fff5e6;\n",
              "  --sklearn-color-unfitted-level-1: #f6e4d2;\n",
              "  --sklearn-color-unfitted-level-2: #ffe0b3;\n",
              "  --sklearn-color-unfitted-level-3: chocolate;\n",
              "  /* Definition of color scheme for fitted estimators */\n",
              "  --sklearn-color-fitted-level-0: #f0f8ff;\n",
              "  --sklearn-color-fitted-level-1: #d4ebff;\n",
              "  --sklearn-color-fitted-level-2: #b3dbfd;\n",
              "  --sklearn-color-fitted-level-3: cornflowerblue;\n",
              "\n",
              "  /* Specific color for light theme */\n",
              "  --sklearn-color-text-on-default-background: var(--sg-text-color, var(--theme-code-foreground, var(--jp-content-font-color1, black)));\n",
              "  --sklearn-color-background: var(--sg-background-color, var(--theme-background, var(--jp-layout-color0, white)));\n",
              "  --sklearn-color-border-box: var(--sg-text-color, var(--theme-code-foreground, var(--jp-content-font-color1, black)));\n",
              "  --sklearn-color-icon: #696969;\n",
              "\n",
              "  @media (prefers-color-scheme: dark) {\n",
              "    /* Redefinition of color scheme for dark theme */\n",
              "    --sklearn-color-text-on-default-background: var(--sg-text-color, var(--theme-code-foreground, var(--jp-content-font-color1, white)));\n",
              "    --sklearn-color-background: var(--sg-background-color, var(--theme-background, var(--jp-layout-color0, #111)));\n",
              "    --sklearn-color-border-box: var(--sg-text-color, var(--theme-code-foreground, var(--jp-content-font-color1, white)));\n",
              "    --sklearn-color-icon: #878787;\n",
              "  }\n",
              "}\n",
              "\n",
              "#sk-container-id-1 {\n",
              "  color: var(--sklearn-color-text);\n",
              "}\n",
              "\n",
              "#sk-container-id-1 pre {\n",
              "  padding: 0;\n",
              "}\n",
              "\n",
              "#sk-container-id-1 input.sk-hidden--visually {\n",
              "  border: 0;\n",
              "  clip: rect(1px 1px 1px 1px);\n",
              "  clip: rect(1px, 1px, 1px, 1px);\n",
              "  height: 1px;\n",
              "  margin: -1px;\n",
              "  overflow: hidden;\n",
              "  padding: 0;\n",
              "  position: absolute;\n",
              "  width: 1px;\n",
              "}\n",
              "\n",
              "#sk-container-id-1 div.sk-dashed-wrapped {\n",
              "  border: 1px dashed var(--sklearn-color-line);\n",
              "  margin: 0 0.4em 0.5em 0.4em;\n",
              "  box-sizing: border-box;\n",
              "  padding-bottom: 0.4em;\n",
              "  background-color: var(--sklearn-color-background);\n",
              "}\n",
              "\n",
              "#sk-container-id-1 div.sk-container {\n",
              "  /* jupyter's `normalize.less` sets `[hidden] { display: none; }`\n",
              "     but bootstrap.min.css set `[hidden] { display: none !important; }`\n",
              "     so we also need the `!important` here to be able to override the\n",
              "     default hidden behavior on the sphinx rendered scikit-learn.org.\n",
              "     See: https://github.com/scikit-learn/scikit-learn/issues/21755 */\n",
              "  display: inline-block !important;\n",
              "  position: relative;\n",
              "}\n",
              "\n",
              "#sk-container-id-1 div.sk-text-repr-fallback {\n",
              "  display: none;\n",
              "}\n",
              "\n",
              "div.sk-parallel-item,\n",
              "div.sk-serial,\n",
              "div.sk-item {\n",
              "  /* draw centered vertical line to link estimators */\n",
              "  background-image: linear-gradient(var(--sklearn-color-text-on-default-background), var(--sklearn-color-text-on-default-background));\n",
              "  background-size: 2px 100%;\n",
              "  background-repeat: no-repeat;\n",
              "  background-position: center center;\n",
              "}\n",
              "\n",
              "/* Parallel-specific style estimator block */\n",
              "\n",
              "#sk-container-id-1 div.sk-parallel-item::after {\n",
              "  content: \"\";\n",
              "  width: 100%;\n",
              "  border-bottom: 2px solid var(--sklearn-color-text-on-default-background);\n",
              "  flex-grow: 1;\n",
              "}\n",
              "\n",
              "#sk-container-id-1 div.sk-parallel {\n",
              "  display: flex;\n",
              "  align-items: stretch;\n",
              "  justify-content: center;\n",
              "  background-color: var(--sklearn-color-background);\n",
              "  position: relative;\n",
              "}\n",
              "\n",
              "#sk-container-id-1 div.sk-parallel-item {\n",
              "  display: flex;\n",
              "  flex-direction: column;\n",
              "}\n",
              "\n",
              "#sk-container-id-1 div.sk-parallel-item:first-child::after {\n",
              "  align-self: flex-end;\n",
              "  width: 50%;\n",
              "}\n",
              "\n",
              "#sk-container-id-1 div.sk-parallel-item:last-child::after {\n",
              "  align-self: flex-start;\n",
              "  width: 50%;\n",
              "}\n",
              "\n",
              "#sk-container-id-1 div.sk-parallel-item:only-child::after {\n",
              "  width: 0;\n",
              "}\n",
              "\n",
              "/* Serial-specific style estimator block */\n",
              "\n",
              "#sk-container-id-1 div.sk-serial {\n",
              "  display: flex;\n",
              "  flex-direction: column;\n",
              "  align-items: center;\n",
              "  background-color: var(--sklearn-color-background);\n",
              "  padding-right: 1em;\n",
              "  padding-left: 1em;\n",
              "}\n",
              "\n",
              "\n",
              "/* Toggleable style: style used for estimator/Pipeline/ColumnTransformer box that is\n",
              "clickable and can be expanded/collapsed.\n",
              "- Pipeline and ColumnTransformer use this feature and define the default style\n",
              "- Estimators will overwrite some part of the style using the `sk-estimator` class\n",
              "*/\n",
              "\n",
              "/* Pipeline and ColumnTransformer style (default) */\n",
              "\n",
              "#sk-container-id-1 div.sk-toggleable {\n",
              "  /* Default theme specific background. It is overwritten whether we have a\n",
              "  specific estimator or a Pipeline/ColumnTransformer */\n",
              "  background-color: var(--sklearn-color-background);\n",
              "}\n",
              "\n",
              "/* Toggleable label */\n",
              "#sk-container-id-1 label.sk-toggleable__label {\n",
              "  cursor: pointer;\n",
              "  display: flex;\n",
              "  width: 100%;\n",
              "  margin-bottom: 0;\n",
              "  padding: 0.5em;\n",
              "  box-sizing: border-box;\n",
              "  text-align: center;\n",
              "  align-items: start;\n",
              "  justify-content: space-between;\n",
              "  gap: 0.5em;\n",
              "}\n",
              "\n",
              "#sk-container-id-1 label.sk-toggleable__label .caption {\n",
              "  font-size: 0.6rem;\n",
              "  font-weight: lighter;\n",
              "  color: var(--sklearn-color-text-muted);\n",
              "}\n",
              "\n",
              "#sk-container-id-1 label.sk-toggleable__label-arrow:before {\n",
              "  /* Arrow on the left of the label */\n",
              "  content: \"▸\";\n",
              "  float: left;\n",
              "  margin-right: 0.25em;\n",
              "  color: var(--sklearn-color-icon);\n",
              "}\n",
              "\n",
              "#sk-container-id-1 label.sk-toggleable__label-arrow:hover:before {\n",
              "  color: var(--sklearn-color-text);\n",
              "}\n",
              "\n",
              "/* Toggleable content - dropdown */\n",
              "\n",
              "#sk-container-id-1 div.sk-toggleable__content {\n",
              "  max-height: 0;\n",
              "  max-width: 0;\n",
              "  overflow: hidden;\n",
              "  text-align: left;\n",
              "  /* unfitted */\n",
              "  background-color: var(--sklearn-color-unfitted-level-0);\n",
              "}\n",
              "\n",
              "#sk-container-id-1 div.sk-toggleable__content.fitted {\n",
              "  /* fitted */\n",
              "  background-color: var(--sklearn-color-fitted-level-0);\n",
              "}\n",
              "\n",
              "#sk-container-id-1 div.sk-toggleable__content pre {\n",
              "  margin: 0.2em;\n",
              "  border-radius: 0.25em;\n",
              "  color: var(--sklearn-color-text);\n",
              "  /* unfitted */\n",
              "  background-color: var(--sklearn-color-unfitted-level-0);\n",
              "}\n",
              "\n",
              "#sk-container-id-1 div.sk-toggleable__content.fitted pre {\n",
              "  /* unfitted */\n",
              "  background-color: var(--sklearn-color-fitted-level-0);\n",
              "}\n",
              "\n",
              "#sk-container-id-1 input.sk-toggleable__control:checked~div.sk-toggleable__content {\n",
              "  /* Expand drop-down */\n",
              "  max-height: 200px;\n",
              "  max-width: 100%;\n",
              "  overflow: auto;\n",
              "}\n",
              "\n",
              "#sk-container-id-1 input.sk-toggleable__control:checked~label.sk-toggleable__label-arrow:before {\n",
              "  content: \"▾\";\n",
              "}\n",
              "\n",
              "/* Pipeline/ColumnTransformer-specific style */\n",
              "\n",
              "#sk-container-id-1 div.sk-label input.sk-toggleable__control:checked~label.sk-toggleable__label {\n",
              "  color: var(--sklearn-color-text);\n",
              "  background-color: var(--sklearn-color-unfitted-level-2);\n",
              "}\n",
              "\n",
              "#sk-container-id-1 div.sk-label.fitted input.sk-toggleable__control:checked~label.sk-toggleable__label {\n",
              "  background-color: var(--sklearn-color-fitted-level-2);\n",
              "}\n",
              "\n",
              "/* Estimator-specific style */\n",
              "\n",
              "/* Colorize estimator box */\n",
              "#sk-container-id-1 div.sk-estimator input.sk-toggleable__control:checked~label.sk-toggleable__label {\n",
              "  /* unfitted */\n",
              "  background-color: var(--sklearn-color-unfitted-level-2);\n",
              "}\n",
              "\n",
              "#sk-container-id-1 div.sk-estimator.fitted input.sk-toggleable__control:checked~label.sk-toggleable__label {\n",
              "  /* fitted */\n",
              "  background-color: var(--sklearn-color-fitted-level-2);\n",
              "}\n",
              "\n",
              "#sk-container-id-1 div.sk-label label.sk-toggleable__label,\n",
              "#sk-container-id-1 div.sk-label label {\n",
              "  /* The background is the default theme color */\n",
              "  color: var(--sklearn-color-text-on-default-background);\n",
              "}\n",
              "\n",
              "/* On hover, darken the color of the background */\n",
              "#sk-container-id-1 div.sk-label:hover label.sk-toggleable__label {\n",
              "  color: var(--sklearn-color-text);\n",
              "  background-color: var(--sklearn-color-unfitted-level-2);\n",
              "}\n",
              "\n",
              "/* Label box, darken color on hover, fitted */\n",
              "#sk-container-id-1 div.sk-label.fitted:hover label.sk-toggleable__label.fitted {\n",
              "  color: var(--sklearn-color-text);\n",
              "  background-color: var(--sklearn-color-fitted-level-2);\n",
              "}\n",
              "\n",
              "/* Estimator label */\n",
              "\n",
              "#sk-container-id-1 div.sk-label label {\n",
              "  font-family: monospace;\n",
              "  font-weight: bold;\n",
              "  display: inline-block;\n",
              "  line-height: 1.2em;\n",
              "}\n",
              "\n",
              "#sk-container-id-1 div.sk-label-container {\n",
              "  text-align: center;\n",
              "}\n",
              "\n",
              "/* Estimator-specific */\n",
              "#sk-container-id-1 div.sk-estimator {\n",
              "  font-family: monospace;\n",
              "  border: 1px dotted var(--sklearn-color-border-box);\n",
              "  border-radius: 0.25em;\n",
              "  box-sizing: border-box;\n",
              "  margin-bottom: 0.5em;\n",
              "  /* unfitted */\n",
              "  background-color: var(--sklearn-color-unfitted-level-0);\n",
              "}\n",
              "\n",
              "#sk-container-id-1 div.sk-estimator.fitted {\n",
              "  /* fitted */\n",
              "  background-color: var(--sklearn-color-fitted-level-0);\n",
              "}\n",
              "\n",
              "/* on hover */\n",
              "#sk-container-id-1 div.sk-estimator:hover {\n",
              "  /* unfitted */\n",
              "  background-color: var(--sklearn-color-unfitted-level-2);\n",
              "}\n",
              "\n",
              "#sk-container-id-1 div.sk-estimator.fitted:hover {\n",
              "  /* fitted */\n",
              "  background-color: var(--sklearn-color-fitted-level-2);\n",
              "}\n",
              "\n",
              "/* Specification for estimator info (e.g. \"i\" and \"?\") */\n",
              "\n",
              "/* Common style for \"i\" and \"?\" */\n",
              "\n",
              ".sk-estimator-doc-link,\n",
              "a:link.sk-estimator-doc-link,\n",
              "a:visited.sk-estimator-doc-link {\n",
              "  float: right;\n",
              "  font-size: smaller;\n",
              "  line-height: 1em;\n",
              "  font-family: monospace;\n",
              "  background-color: var(--sklearn-color-background);\n",
              "  border-radius: 1em;\n",
              "  height: 1em;\n",
              "  width: 1em;\n",
              "  text-decoration: none !important;\n",
              "  margin-left: 0.5em;\n",
              "  text-align: center;\n",
              "  /* unfitted */\n",
              "  border: var(--sklearn-color-unfitted-level-1) 1pt solid;\n",
              "  color: var(--sklearn-color-unfitted-level-1);\n",
              "}\n",
              "\n",
              ".sk-estimator-doc-link.fitted,\n",
              "a:link.sk-estimator-doc-link.fitted,\n",
              "a:visited.sk-estimator-doc-link.fitted {\n",
              "  /* fitted */\n",
              "  border: var(--sklearn-color-fitted-level-1) 1pt solid;\n",
              "  color: var(--sklearn-color-fitted-level-1);\n",
              "}\n",
              "\n",
              "/* On hover */\n",
              "div.sk-estimator:hover .sk-estimator-doc-link:hover,\n",
              ".sk-estimator-doc-link:hover,\n",
              "div.sk-label-container:hover .sk-estimator-doc-link:hover,\n",
              ".sk-estimator-doc-link:hover {\n",
              "  /* unfitted */\n",
              "  background-color: var(--sklearn-color-unfitted-level-3);\n",
              "  color: var(--sklearn-color-background);\n",
              "  text-decoration: none;\n",
              "}\n",
              "\n",
              "div.sk-estimator.fitted:hover .sk-estimator-doc-link.fitted:hover,\n",
              ".sk-estimator-doc-link.fitted:hover,\n",
              "div.sk-label-container:hover .sk-estimator-doc-link.fitted:hover,\n",
              ".sk-estimator-doc-link.fitted:hover {\n",
              "  /* fitted */\n",
              "  background-color: var(--sklearn-color-fitted-level-3);\n",
              "  color: var(--sklearn-color-background);\n",
              "  text-decoration: none;\n",
              "}\n",
              "\n",
              "/* Span, style for the box shown on hovering the info icon */\n",
              ".sk-estimator-doc-link span {\n",
              "  display: none;\n",
              "  z-index: 9999;\n",
              "  position: relative;\n",
              "  font-weight: normal;\n",
              "  right: .2ex;\n",
              "  padding: .5ex;\n",
              "  margin: .5ex;\n",
              "  width: min-content;\n",
              "  min-width: 20ex;\n",
              "  max-width: 50ex;\n",
              "  color: var(--sklearn-color-text);\n",
              "  box-shadow: 2pt 2pt 4pt #999;\n",
              "  /* unfitted */\n",
              "  background: var(--sklearn-color-unfitted-level-0);\n",
              "  border: .5pt solid var(--sklearn-color-unfitted-level-3);\n",
              "}\n",
              "\n",
              ".sk-estimator-doc-link.fitted span {\n",
              "  /* fitted */\n",
              "  background: var(--sklearn-color-fitted-level-0);\n",
              "  border: var(--sklearn-color-fitted-level-3);\n",
              "}\n",
              "\n",
              ".sk-estimator-doc-link:hover span {\n",
              "  display: block;\n",
              "}\n",
              "\n",
              "/* \"?\"-specific style due to the `<a>` HTML tag */\n",
              "\n",
              "#sk-container-id-1 a.estimator_doc_link {\n",
              "  float: right;\n",
              "  font-size: 1rem;\n",
              "  line-height: 1em;\n",
              "  font-family: monospace;\n",
              "  background-color: var(--sklearn-color-background);\n",
              "  border-radius: 1rem;\n",
              "  height: 1rem;\n",
              "  width: 1rem;\n",
              "  text-decoration: none;\n",
              "  /* unfitted */\n",
              "  color: var(--sklearn-color-unfitted-level-1);\n",
              "  border: var(--sklearn-color-unfitted-level-1) 1pt solid;\n",
              "}\n",
              "\n",
              "#sk-container-id-1 a.estimator_doc_link.fitted {\n",
              "  /* fitted */\n",
              "  border: var(--sklearn-color-fitted-level-1) 1pt solid;\n",
              "  color: var(--sklearn-color-fitted-level-1);\n",
              "}\n",
              "\n",
              "/* On hover */\n",
              "#sk-container-id-1 a.estimator_doc_link:hover {\n",
              "  /* unfitted */\n",
              "  background-color: var(--sklearn-color-unfitted-level-3);\n",
              "  color: var(--sklearn-color-background);\n",
              "  text-decoration: none;\n",
              "}\n",
              "\n",
              "#sk-container-id-1 a.estimator_doc_link.fitted:hover {\n",
              "  /* fitted */\n",
              "  background-color: var(--sklearn-color-fitted-level-3);\n",
              "}\n",
              "</style><div id=\"sk-container-id-1\" class=\"sk-top-container\"><div class=\"sk-text-repr-fallback\"><pre>LogisticRegression(max_iter=2500)</pre><b>In a Jupyter environment, please rerun this cell to show the HTML representation or trust the notebook. <br />On GitHub, the HTML representation is unable to render, please try loading this page with nbviewer.org.</b></div><div class=\"sk-container\" hidden><div class=\"sk-item\"><div class=\"sk-estimator fitted sk-toggleable\"><input class=\"sk-toggleable__control sk-hidden--visually\" id=\"sk-estimator-id-1\" type=\"checkbox\" checked><label for=\"sk-estimator-id-1\" class=\"sk-toggleable__label fitted sk-toggleable__label-arrow\"><div><div>LogisticRegression</div></div><div><a class=\"sk-estimator-doc-link fitted\" rel=\"noreferrer\" target=\"_blank\" href=\"https://scikit-learn.org/1.6/modules/generated/sklearn.linear_model.LogisticRegression.html\">?<span>Documentation for LogisticRegression</span></a><span class=\"sk-estimator-doc-link fitted\">i<span>Fitted</span></span></div></label><div class=\"sk-toggleable__content fitted\"><pre>LogisticRegression(max_iter=2500)</pre></div> </div></div></div></div>"
            ]
          },
          "metadata": {},
          "execution_count": 21
        }
      ],
      "source": [
        "model = LogisticRegression(max_iter = 2500)\n",
        "model.fit(X_train,Y_train)"
      ]
    },
    {
      "cell_type": "markdown",
      "id": "28794db2",
      "metadata": {
        "id": "28794db2"
      },
      "source": [
        "Your model is trained! Time to check how good it is by using it on the testing dataframe.\n",
        "Some metrics are used to check the reliability of a model.\n",
        "\n",
        "**As an exercise, read about these and fill out the markdown below!**\n"
      ]
    },
    {
      "cell_type": "markdown",
      "id": "82b4f00d",
      "metadata": {
        "id": "82b4f00d"
      },
      "source": [
        "- Accuracy:\n",
        "- F1 score:\n",
        "- Precision:\n",
        "- Recall:"
      ]
    },
    {
      "cell_type": "markdown",
      "id": "74a1c63a",
      "metadata": {
        "id": "74a1c63a"
      },
      "source": [
        "All of these can be calculated for our model using sklearn modules.\n",
        "\n",
        "**Import them!**"
      ]
    },
    {
      "cell_type": "code",
      "execution_count": null,
      "id": "577eeeb5",
      "metadata": {
        "id": "577eeeb5"
      },
      "outputs": [],
      "source": [
        "#ENTER YOUR CODE HERE\n",
        "from sklearn.metrics import accuracy_score,f1_score,precision_score,recall_score"
      ]
    },
    {
      "cell_type": "markdown",
      "id": "c3c5d690",
      "metadata": {
        "id": "c3c5d690"
      },
      "source": [
        "**Now test on the testing dataframe and print all of these metrics.**"
      ]
    },
    {
      "cell_type": "code",
      "execution_count": null,
      "id": "00118b46",
      "metadata": {
        "id": "00118b46"
      },
      "outputs": [],
      "source": [
        "#ENTER YOUR CODE HERE"
      ]
    },
    {
      "cell_type": "code",
      "execution_count": null,
      "id": "e6a0a584",
      "metadata": {
        "colab": {
          "base_uri": "https://localhost:8080/"
        },
        "id": "e6a0a584",
        "outputId": "b4d09bd8-3758-4cd4-f5d8-d33549f7f50d"
      },
      "outputs": [
        {
          "output_type": "stream",
          "name": "stdout",
          "text": [
            "Accuracy of the model is: 0.7481203007518797\n",
            "F1 score of the model is: 0.7987987987987988\n",
            "Precision of the model is: 0.76\n",
            "Recall of the model is: 0.8417721518987342\n"
          ]
        }
      ],
      "source": [
        "print(f\"Accuracy of the model is: {accuracy_score(Y_test,model.predict(X_test))}\")\n",
        "print(f\"F1 score of the model is: {f1_score(Y_test,model.predict(X_test))}\")\n",
        "print(f\"Precision of the model is: {precision_score(Y_test,model.predict(X_test))}\")\n",
        "print(f\"Recall of the model is: {recall_score(Y_test,model.predict(X_test))}\")"
      ]
    },
    {
      "cell_type": "markdown",
      "id": "7f58eee3",
      "metadata": {
        "id": "7f58eee3"
      },
      "source": [
        "**Your Logistic Regression model is well trained!**"
      ]
    },
    {
      "cell_type": "markdown",
      "id": "0d258814",
      "metadata": {
        "id": "0d258814"
      },
      "source": [
        "Support Vector Machine is another model that can be used both for regression and classification. We'll be training a classification model on our current dataset.\n",
        "\n",
        "**Import the sklearn module that is used to implement a classification SVM**"
      ]
    },
    {
      "cell_type": "code",
      "execution_count": null,
      "id": "8ad0eb19",
      "metadata": {
        "id": "8ad0eb19"
      },
      "outputs": [],
      "source": [
        "#ENTER YOUR CODE HERE\n",
        "from sklearn.svm import SVC"
      ]
    },
    {
      "cell_type": "markdown",
      "id": "3e4a26e4",
      "metadata": {
        "id": "3e4a26e4"
      },
      "source": [
        "**Just as we had before, load and fit a model on our training dataset.**"
      ]
    },
    {
      "cell_type": "code",
      "execution_count": null,
      "id": "f36f65d6",
      "metadata": {
        "id": "f36f65d6"
      },
      "outputs": [],
      "source": [
        "#ENTER YOUR CODE HERE"
      ]
    },
    {
      "cell_type": "code",
      "execution_count": null,
      "id": "38675144",
      "metadata": {
        "colab": {
          "base_uri": "https://localhost:8080/",
          "height": 80
        },
        "id": "38675144",
        "outputId": "bd072eb9-91c2-4380-e373-85e41d8a9cfb"
      },
      "outputs": [
        {
          "output_type": "execute_result",
          "data": {
            "text/plain": [
              "SVC()"
            ],
            "text/html": [
              "<style>#sk-container-id-2 {\n",
              "  /* Definition of color scheme common for light and dark mode */\n",
              "  --sklearn-color-text: #000;\n",
              "  --sklearn-color-text-muted: #666;\n",
              "  --sklearn-color-line: gray;\n",
              "  /* Definition of color scheme for unfitted estimators */\n",
              "  --sklearn-color-unfitted-level-0: #fff5e6;\n",
              "  --sklearn-color-unfitted-level-1: #f6e4d2;\n",
              "  --sklearn-color-unfitted-level-2: #ffe0b3;\n",
              "  --sklearn-color-unfitted-level-3: chocolate;\n",
              "  /* Definition of color scheme for fitted estimators */\n",
              "  --sklearn-color-fitted-level-0: #f0f8ff;\n",
              "  --sklearn-color-fitted-level-1: #d4ebff;\n",
              "  --sklearn-color-fitted-level-2: #b3dbfd;\n",
              "  --sklearn-color-fitted-level-3: cornflowerblue;\n",
              "\n",
              "  /* Specific color for light theme */\n",
              "  --sklearn-color-text-on-default-background: var(--sg-text-color, var(--theme-code-foreground, var(--jp-content-font-color1, black)));\n",
              "  --sklearn-color-background: var(--sg-background-color, var(--theme-background, var(--jp-layout-color0, white)));\n",
              "  --sklearn-color-border-box: var(--sg-text-color, var(--theme-code-foreground, var(--jp-content-font-color1, black)));\n",
              "  --sklearn-color-icon: #696969;\n",
              "\n",
              "  @media (prefers-color-scheme: dark) {\n",
              "    /* Redefinition of color scheme for dark theme */\n",
              "    --sklearn-color-text-on-default-background: var(--sg-text-color, var(--theme-code-foreground, var(--jp-content-font-color1, white)));\n",
              "    --sklearn-color-background: var(--sg-background-color, var(--theme-background, var(--jp-layout-color0, #111)));\n",
              "    --sklearn-color-border-box: var(--sg-text-color, var(--theme-code-foreground, var(--jp-content-font-color1, white)));\n",
              "    --sklearn-color-icon: #878787;\n",
              "  }\n",
              "}\n",
              "\n",
              "#sk-container-id-2 {\n",
              "  color: var(--sklearn-color-text);\n",
              "}\n",
              "\n",
              "#sk-container-id-2 pre {\n",
              "  padding: 0;\n",
              "}\n",
              "\n",
              "#sk-container-id-2 input.sk-hidden--visually {\n",
              "  border: 0;\n",
              "  clip: rect(1px 1px 1px 1px);\n",
              "  clip: rect(1px, 1px, 1px, 1px);\n",
              "  height: 1px;\n",
              "  margin: -1px;\n",
              "  overflow: hidden;\n",
              "  padding: 0;\n",
              "  position: absolute;\n",
              "  width: 1px;\n",
              "}\n",
              "\n",
              "#sk-container-id-2 div.sk-dashed-wrapped {\n",
              "  border: 1px dashed var(--sklearn-color-line);\n",
              "  margin: 0 0.4em 0.5em 0.4em;\n",
              "  box-sizing: border-box;\n",
              "  padding-bottom: 0.4em;\n",
              "  background-color: var(--sklearn-color-background);\n",
              "}\n",
              "\n",
              "#sk-container-id-2 div.sk-container {\n",
              "  /* jupyter's `normalize.less` sets `[hidden] { display: none; }`\n",
              "     but bootstrap.min.css set `[hidden] { display: none !important; }`\n",
              "     so we also need the `!important` here to be able to override the\n",
              "     default hidden behavior on the sphinx rendered scikit-learn.org.\n",
              "     See: https://github.com/scikit-learn/scikit-learn/issues/21755 */\n",
              "  display: inline-block !important;\n",
              "  position: relative;\n",
              "}\n",
              "\n",
              "#sk-container-id-2 div.sk-text-repr-fallback {\n",
              "  display: none;\n",
              "}\n",
              "\n",
              "div.sk-parallel-item,\n",
              "div.sk-serial,\n",
              "div.sk-item {\n",
              "  /* draw centered vertical line to link estimators */\n",
              "  background-image: linear-gradient(var(--sklearn-color-text-on-default-background), var(--sklearn-color-text-on-default-background));\n",
              "  background-size: 2px 100%;\n",
              "  background-repeat: no-repeat;\n",
              "  background-position: center center;\n",
              "}\n",
              "\n",
              "/* Parallel-specific style estimator block */\n",
              "\n",
              "#sk-container-id-2 div.sk-parallel-item::after {\n",
              "  content: \"\";\n",
              "  width: 100%;\n",
              "  border-bottom: 2px solid var(--sklearn-color-text-on-default-background);\n",
              "  flex-grow: 1;\n",
              "}\n",
              "\n",
              "#sk-container-id-2 div.sk-parallel {\n",
              "  display: flex;\n",
              "  align-items: stretch;\n",
              "  justify-content: center;\n",
              "  background-color: var(--sklearn-color-background);\n",
              "  position: relative;\n",
              "}\n",
              "\n",
              "#sk-container-id-2 div.sk-parallel-item {\n",
              "  display: flex;\n",
              "  flex-direction: column;\n",
              "}\n",
              "\n",
              "#sk-container-id-2 div.sk-parallel-item:first-child::after {\n",
              "  align-self: flex-end;\n",
              "  width: 50%;\n",
              "}\n",
              "\n",
              "#sk-container-id-2 div.sk-parallel-item:last-child::after {\n",
              "  align-self: flex-start;\n",
              "  width: 50%;\n",
              "}\n",
              "\n",
              "#sk-container-id-2 div.sk-parallel-item:only-child::after {\n",
              "  width: 0;\n",
              "}\n",
              "\n",
              "/* Serial-specific style estimator block */\n",
              "\n",
              "#sk-container-id-2 div.sk-serial {\n",
              "  display: flex;\n",
              "  flex-direction: column;\n",
              "  align-items: center;\n",
              "  background-color: var(--sklearn-color-background);\n",
              "  padding-right: 1em;\n",
              "  padding-left: 1em;\n",
              "}\n",
              "\n",
              "\n",
              "/* Toggleable style: style used for estimator/Pipeline/ColumnTransformer box that is\n",
              "clickable and can be expanded/collapsed.\n",
              "- Pipeline and ColumnTransformer use this feature and define the default style\n",
              "- Estimators will overwrite some part of the style using the `sk-estimator` class\n",
              "*/\n",
              "\n",
              "/* Pipeline and ColumnTransformer style (default) */\n",
              "\n",
              "#sk-container-id-2 div.sk-toggleable {\n",
              "  /* Default theme specific background. It is overwritten whether we have a\n",
              "  specific estimator or a Pipeline/ColumnTransformer */\n",
              "  background-color: var(--sklearn-color-background);\n",
              "}\n",
              "\n",
              "/* Toggleable label */\n",
              "#sk-container-id-2 label.sk-toggleable__label {\n",
              "  cursor: pointer;\n",
              "  display: flex;\n",
              "  width: 100%;\n",
              "  margin-bottom: 0;\n",
              "  padding: 0.5em;\n",
              "  box-sizing: border-box;\n",
              "  text-align: center;\n",
              "  align-items: start;\n",
              "  justify-content: space-between;\n",
              "  gap: 0.5em;\n",
              "}\n",
              "\n",
              "#sk-container-id-2 label.sk-toggleable__label .caption {\n",
              "  font-size: 0.6rem;\n",
              "  font-weight: lighter;\n",
              "  color: var(--sklearn-color-text-muted);\n",
              "}\n",
              "\n",
              "#sk-container-id-2 label.sk-toggleable__label-arrow:before {\n",
              "  /* Arrow on the left of the label */\n",
              "  content: \"▸\";\n",
              "  float: left;\n",
              "  margin-right: 0.25em;\n",
              "  color: var(--sklearn-color-icon);\n",
              "}\n",
              "\n",
              "#sk-container-id-2 label.sk-toggleable__label-arrow:hover:before {\n",
              "  color: var(--sklearn-color-text);\n",
              "}\n",
              "\n",
              "/* Toggleable content - dropdown */\n",
              "\n",
              "#sk-container-id-2 div.sk-toggleable__content {\n",
              "  max-height: 0;\n",
              "  max-width: 0;\n",
              "  overflow: hidden;\n",
              "  text-align: left;\n",
              "  /* unfitted */\n",
              "  background-color: var(--sklearn-color-unfitted-level-0);\n",
              "}\n",
              "\n",
              "#sk-container-id-2 div.sk-toggleable__content.fitted {\n",
              "  /* fitted */\n",
              "  background-color: var(--sklearn-color-fitted-level-0);\n",
              "}\n",
              "\n",
              "#sk-container-id-2 div.sk-toggleable__content pre {\n",
              "  margin: 0.2em;\n",
              "  border-radius: 0.25em;\n",
              "  color: var(--sklearn-color-text);\n",
              "  /* unfitted */\n",
              "  background-color: var(--sklearn-color-unfitted-level-0);\n",
              "}\n",
              "\n",
              "#sk-container-id-2 div.sk-toggleable__content.fitted pre {\n",
              "  /* unfitted */\n",
              "  background-color: var(--sklearn-color-fitted-level-0);\n",
              "}\n",
              "\n",
              "#sk-container-id-2 input.sk-toggleable__control:checked~div.sk-toggleable__content {\n",
              "  /* Expand drop-down */\n",
              "  max-height: 200px;\n",
              "  max-width: 100%;\n",
              "  overflow: auto;\n",
              "}\n",
              "\n",
              "#sk-container-id-2 input.sk-toggleable__control:checked~label.sk-toggleable__label-arrow:before {\n",
              "  content: \"▾\";\n",
              "}\n",
              "\n",
              "/* Pipeline/ColumnTransformer-specific style */\n",
              "\n",
              "#sk-container-id-2 div.sk-label input.sk-toggleable__control:checked~label.sk-toggleable__label {\n",
              "  color: var(--sklearn-color-text);\n",
              "  background-color: var(--sklearn-color-unfitted-level-2);\n",
              "}\n",
              "\n",
              "#sk-container-id-2 div.sk-label.fitted input.sk-toggleable__control:checked~label.sk-toggleable__label {\n",
              "  background-color: var(--sklearn-color-fitted-level-2);\n",
              "}\n",
              "\n",
              "/* Estimator-specific style */\n",
              "\n",
              "/* Colorize estimator box */\n",
              "#sk-container-id-2 div.sk-estimator input.sk-toggleable__control:checked~label.sk-toggleable__label {\n",
              "  /* unfitted */\n",
              "  background-color: var(--sklearn-color-unfitted-level-2);\n",
              "}\n",
              "\n",
              "#sk-container-id-2 div.sk-estimator.fitted input.sk-toggleable__control:checked~label.sk-toggleable__label {\n",
              "  /* fitted */\n",
              "  background-color: var(--sklearn-color-fitted-level-2);\n",
              "}\n",
              "\n",
              "#sk-container-id-2 div.sk-label label.sk-toggleable__label,\n",
              "#sk-container-id-2 div.sk-label label {\n",
              "  /* The background is the default theme color */\n",
              "  color: var(--sklearn-color-text-on-default-background);\n",
              "}\n",
              "\n",
              "/* On hover, darken the color of the background */\n",
              "#sk-container-id-2 div.sk-label:hover label.sk-toggleable__label {\n",
              "  color: var(--sklearn-color-text);\n",
              "  background-color: var(--sklearn-color-unfitted-level-2);\n",
              "}\n",
              "\n",
              "/* Label box, darken color on hover, fitted */\n",
              "#sk-container-id-2 div.sk-label.fitted:hover label.sk-toggleable__label.fitted {\n",
              "  color: var(--sklearn-color-text);\n",
              "  background-color: var(--sklearn-color-fitted-level-2);\n",
              "}\n",
              "\n",
              "/* Estimator label */\n",
              "\n",
              "#sk-container-id-2 div.sk-label label {\n",
              "  font-family: monospace;\n",
              "  font-weight: bold;\n",
              "  display: inline-block;\n",
              "  line-height: 1.2em;\n",
              "}\n",
              "\n",
              "#sk-container-id-2 div.sk-label-container {\n",
              "  text-align: center;\n",
              "}\n",
              "\n",
              "/* Estimator-specific */\n",
              "#sk-container-id-2 div.sk-estimator {\n",
              "  font-family: monospace;\n",
              "  border: 1px dotted var(--sklearn-color-border-box);\n",
              "  border-radius: 0.25em;\n",
              "  box-sizing: border-box;\n",
              "  margin-bottom: 0.5em;\n",
              "  /* unfitted */\n",
              "  background-color: var(--sklearn-color-unfitted-level-0);\n",
              "}\n",
              "\n",
              "#sk-container-id-2 div.sk-estimator.fitted {\n",
              "  /* fitted */\n",
              "  background-color: var(--sklearn-color-fitted-level-0);\n",
              "}\n",
              "\n",
              "/* on hover */\n",
              "#sk-container-id-2 div.sk-estimator:hover {\n",
              "  /* unfitted */\n",
              "  background-color: var(--sklearn-color-unfitted-level-2);\n",
              "}\n",
              "\n",
              "#sk-container-id-2 div.sk-estimator.fitted:hover {\n",
              "  /* fitted */\n",
              "  background-color: var(--sklearn-color-fitted-level-2);\n",
              "}\n",
              "\n",
              "/* Specification for estimator info (e.g. \"i\" and \"?\") */\n",
              "\n",
              "/* Common style for \"i\" and \"?\" */\n",
              "\n",
              ".sk-estimator-doc-link,\n",
              "a:link.sk-estimator-doc-link,\n",
              "a:visited.sk-estimator-doc-link {\n",
              "  float: right;\n",
              "  font-size: smaller;\n",
              "  line-height: 1em;\n",
              "  font-family: monospace;\n",
              "  background-color: var(--sklearn-color-background);\n",
              "  border-radius: 1em;\n",
              "  height: 1em;\n",
              "  width: 1em;\n",
              "  text-decoration: none !important;\n",
              "  margin-left: 0.5em;\n",
              "  text-align: center;\n",
              "  /* unfitted */\n",
              "  border: var(--sklearn-color-unfitted-level-1) 1pt solid;\n",
              "  color: var(--sklearn-color-unfitted-level-1);\n",
              "}\n",
              "\n",
              ".sk-estimator-doc-link.fitted,\n",
              "a:link.sk-estimator-doc-link.fitted,\n",
              "a:visited.sk-estimator-doc-link.fitted {\n",
              "  /* fitted */\n",
              "  border: var(--sklearn-color-fitted-level-1) 1pt solid;\n",
              "  color: var(--sklearn-color-fitted-level-1);\n",
              "}\n",
              "\n",
              "/* On hover */\n",
              "div.sk-estimator:hover .sk-estimator-doc-link:hover,\n",
              ".sk-estimator-doc-link:hover,\n",
              "div.sk-label-container:hover .sk-estimator-doc-link:hover,\n",
              ".sk-estimator-doc-link:hover {\n",
              "  /* unfitted */\n",
              "  background-color: var(--sklearn-color-unfitted-level-3);\n",
              "  color: var(--sklearn-color-background);\n",
              "  text-decoration: none;\n",
              "}\n",
              "\n",
              "div.sk-estimator.fitted:hover .sk-estimator-doc-link.fitted:hover,\n",
              ".sk-estimator-doc-link.fitted:hover,\n",
              "div.sk-label-container:hover .sk-estimator-doc-link.fitted:hover,\n",
              ".sk-estimator-doc-link.fitted:hover {\n",
              "  /* fitted */\n",
              "  background-color: var(--sklearn-color-fitted-level-3);\n",
              "  color: var(--sklearn-color-background);\n",
              "  text-decoration: none;\n",
              "}\n",
              "\n",
              "/* Span, style for the box shown on hovering the info icon */\n",
              ".sk-estimator-doc-link span {\n",
              "  display: none;\n",
              "  z-index: 9999;\n",
              "  position: relative;\n",
              "  font-weight: normal;\n",
              "  right: .2ex;\n",
              "  padding: .5ex;\n",
              "  margin: .5ex;\n",
              "  width: min-content;\n",
              "  min-width: 20ex;\n",
              "  max-width: 50ex;\n",
              "  color: var(--sklearn-color-text);\n",
              "  box-shadow: 2pt 2pt 4pt #999;\n",
              "  /* unfitted */\n",
              "  background: var(--sklearn-color-unfitted-level-0);\n",
              "  border: .5pt solid var(--sklearn-color-unfitted-level-3);\n",
              "}\n",
              "\n",
              ".sk-estimator-doc-link.fitted span {\n",
              "  /* fitted */\n",
              "  background: var(--sklearn-color-fitted-level-0);\n",
              "  border: var(--sklearn-color-fitted-level-3);\n",
              "}\n",
              "\n",
              ".sk-estimator-doc-link:hover span {\n",
              "  display: block;\n",
              "}\n",
              "\n",
              "/* \"?\"-specific style due to the `<a>` HTML tag */\n",
              "\n",
              "#sk-container-id-2 a.estimator_doc_link {\n",
              "  float: right;\n",
              "  font-size: 1rem;\n",
              "  line-height: 1em;\n",
              "  font-family: monospace;\n",
              "  background-color: var(--sklearn-color-background);\n",
              "  border-radius: 1rem;\n",
              "  height: 1rem;\n",
              "  width: 1rem;\n",
              "  text-decoration: none;\n",
              "  /* unfitted */\n",
              "  color: var(--sklearn-color-unfitted-level-1);\n",
              "  border: var(--sklearn-color-unfitted-level-1) 1pt solid;\n",
              "}\n",
              "\n",
              "#sk-container-id-2 a.estimator_doc_link.fitted {\n",
              "  /* fitted */\n",
              "  border: var(--sklearn-color-fitted-level-1) 1pt solid;\n",
              "  color: var(--sklearn-color-fitted-level-1);\n",
              "}\n",
              "\n",
              "/* On hover */\n",
              "#sk-container-id-2 a.estimator_doc_link:hover {\n",
              "  /* unfitted */\n",
              "  background-color: var(--sklearn-color-unfitted-level-3);\n",
              "  color: var(--sklearn-color-background);\n",
              "  text-decoration: none;\n",
              "}\n",
              "\n",
              "#sk-container-id-2 a.estimator_doc_link.fitted:hover {\n",
              "  /* fitted */\n",
              "  background-color: var(--sklearn-color-fitted-level-3);\n",
              "}\n",
              "</style><div id=\"sk-container-id-2\" class=\"sk-top-container\"><div class=\"sk-text-repr-fallback\"><pre>SVC()</pre><b>In a Jupyter environment, please rerun this cell to show the HTML representation or trust the notebook. <br />On GitHub, the HTML representation is unable to render, please try loading this page with nbviewer.org.</b></div><div class=\"sk-container\" hidden><div class=\"sk-item\"><div class=\"sk-estimator fitted sk-toggleable\"><input class=\"sk-toggleable__control sk-hidden--visually\" id=\"sk-estimator-id-2\" type=\"checkbox\" checked><label for=\"sk-estimator-id-2\" class=\"sk-toggleable__label fitted sk-toggleable__label-arrow\"><div><div>SVC</div></div><div><a class=\"sk-estimator-doc-link fitted\" rel=\"noreferrer\" target=\"_blank\" href=\"https://scikit-learn.org/1.6/modules/generated/sklearn.svm.SVC.html\">?<span>Documentation for SVC</span></a><span class=\"sk-estimator-doc-link fitted\">i<span>Fitted</span></span></div></label><div class=\"sk-toggleable__content fitted\"><pre>SVC()</pre></div> </div></div></div></div>"
            ]
          },
          "metadata": {},
          "execution_count": 27
        }
      ],
      "source": [
        "model = SVC()\n",
        "model.fit(X_train,Y_train)"
      ]
    },
    {
      "cell_type": "markdown",
      "id": "60f6fd01",
      "metadata": {
        "id": "60f6fd01"
      },
      "source": [
        "**Now test the model on the training dataset, and check the relevant metrics!**"
      ]
    },
    {
      "cell_type": "code",
      "execution_count": null,
      "id": "e7b39e7c",
      "metadata": {
        "id": "e7b39e7c"
      },
      "outputs": [],
      "source": [
        "#ENTER YOUR CODE HERE"
      ]
    },
    {
      "cell_type": "code",
      "execution_count": null,
      "id": "65956581",
      "metadata": {
        "colab": {
          "base_uri": "https://localhost:8080/"
        },
        "id": "65956581",
        "outputId": "2f40bf2a-dcde-44ee-eeef-6672bd0732d3"
      },
      "outputs": [
        {
          "output_type": "stream",
          "name": "stdout",
          "text": [
            "Accuracy of the model is: 0.7406015037593985\n",
            "F1 score of the model is: 0.8056338028169014\n",
            "Precision of the model is: 0.7258883248730964\n",
            "Recall of the model is: 0.9050632911392406\n"
          ]
        }
      ],
      "source": [
        "print(f\"Accuracy of the model is: {accuracy_score(Y_test,model.predict(X_test))}\")\n",
        "print(f\"F1 score of the model is: {f1_score(Y_test,model.predict(X_test))}\")\n",
        "print(f\"Precision of the model is: {precision_score(Y_test,model.predict(X_test))}\")\n",
        "print(f\"Recall of the model is: {recall_score(Y_test,model.predict(X_test))}\")"
      ]
    },
    {
      "cell_type": "markdown",
      "id": "19d6984e",
      "metadata": {
        "id": "19d6984e"
      },
      "source": [
        "### MULTICLASS CLASSIFICATION"
      ]
    },
    {
      "cell_type": "code",
      "execution_count": null,
      "id": "0f74f848",
      "metadata": {
        "colab": {
          "base_uri": "https://localhost:8080/"
        },
        "id": "0f74f848",
        "outputId": "608adfa2-2149-46db-f753-89fb5a9df67d"
      },
      "outputs": [
        {
          "output_type": "stream",
          "name": "stdout",
          "text": [
            "Downloading...\n",
            "From: https://drive.google.com/uc?id=1bhWHfp1QS7ZHbNbxP_zFtEUAf76WfntC\n",
            "To: /content/social_well_being.csv\n",
            "\r  0% 0.00/43.1k [00:00<?, ?B/s]\r100% 43.1k/43.1k [00:00<00:00, 38.9MB/s]\n"
          ]
        }
      ],
      "source": [
        "! gdown 1bhWHfp1QS7ZHbNbxP_zFtEUAf76WfntC"
      ]
    },
    {
      "cell_type": "markdown",
      "id": "965a2a3e",
      "metadata": {
        "id": "965a2a3e"
      },
      "source": [
        "**Import the csv `social_well_being.csv` as a pandas dataframe.**"
      ]
    },
    {
      "cell_type": "code",
      "execution_count": null,
      "id": "d8dcf919",
      "metadata": {
        "id": "d8dcf919"
      },
      "outputs": [],
      "source": [
        "#ENTER YOUR CODE HERE\n",
        "import pandas as pd\n",
        "df = pd.read_csv('/content/social_well_being.csv')"
      ]
    },
    {
      "cell_type": "markdown",
      "id": "321a910f",
      "metadata": {
        "id": "321a910f"
      },
      "source": [
        "**Always analyse the data.**"
      ]
    },
    {
      "cell_type": "code",
      "execution_count": null,
      "id": "467c8c66",
      "metadata": {
        "id": "467c8c66",
        "colab": {
          "base_uri": "https://localhost:8080/"
        },
        "outputId": "6cdd1788-c6a5-4de8-c400-6634e37b1daa"
      },
      "outputs": [
        {
          "output_type": "stream",
          "name": "stdout",
          "text": [
            "<class 'pandas.core.frame.DataFrame'>\n",
            "RangeIndex: 924 entries, 0 to 923\n",
            "Data columns (total 10 columns):\n",
            " #   Column                      Non-Null Count  Dtype \n",
            "---  ------                      --------------  ----- \n",
            " 0   User_ID                     924 non-null    int64 \n",
            " 1   Age                         924 non-null    int64 \n",
            " 2   Gender                      924 non-null    object\n",
            " 3   Platform                    924 non-null    object\n",
            " 4   Daily_Usage_Time (minutes)  924 non-null    int64 \n",
            " 5   Posts_Per_Day               924 non-null    int64 \n",
            " 6   Likes_Received_Per_Day      924 non-null    int64 \n",
            " 7   Comments_Received_Per_Day   924 non-null    int64 \n",
            " 8   Messages_Sent_Per_Day       924 non-null    int64 \n",
            " 9   Dominant_Emotion            924 non-null    object\n",
            "dtypes: int64(7), object(3)\n",
            "memory usage: 72.3+ KB\n",
            "None\n"
          ]
        }
      ],
      "source": [
        "#ENTER YOUR CODE HERE\n",
        "print(df.info())"
      ]
    },
    {
      "cell_type": "code",
      "execution_count": null,
      "id": "cf99477c",
      "metadata": {
        "colab": {
          "base_uri": "https://localhost:8080/"
        },
        "id": "cf99477c",
        "outputId": "87dfaed5-87f6-4a93-c5f5-9a40dc7dfe7e"
      },
      "outputs": [
        {
          "output_type": "stream",
          "name": "stdout",
          "text": [
            "(924, 10)\n"
          ]
        }
      ],
      "source": [
        "print(df.shape)"
      ]
    },
    {
      "cell_type": "code",
      "execution_count": null,
      "id": "af924d91",
      "metadata": {
        "colab": {
          "base_uri": "https://localhost:8080/"
        },
        "id": "af924d91",
        "outputId": "698ef002-287e-45c4-d573-2405b0fe96bd"
      },
      "outputs": [
        {
          "output_type": "stream",
          "name": "stdout",
          "text": [
            "Index(['User_ID', 'Age', 'Gender', 'Platform', 'Daily_Usage_Time (minutes)',\n",
            "       'Posts_Per_Day', 'Likes_Received_Per_Day', 'Comments_Received_Per_Day',\n",
            "       'Messages_Sent_Per_Day', 'Dominant_Emotion'],\n",
            "      dtype='object')\n"
          ]
        }
      ],
      "source": [
        "print(df.columns)"
      ]
    },
    {
      "cell_type": "code",
      "execution_count": null,
      "id": "80919305",
      "metadata": {
        "colab": {
          "base_uri": "https://localhost:8080/"
        },
        "id": "80919305",
        "outputId": "c10ea705-f9e9-4816-88ae-c8e29d24a736"
      },
      "outputs": [
        {
          "output_type": "stream",
          "name": "stdout",
          "text": [
            "   User_ID  Age      Gender   Platform  Daily_Usage_Time (minutes)  \\\n",
            "0        1   25      Female  Instagram                         120   \n",
            "1        2   30        Male    Twitter                          90   \n",
            "2        3   22  Non-binary   Facebook                          60   \n",
            "3        4   28      Female  Instagram                         200   \n",
            "4        5   33        Male   LinkedIn                          45   \n",
            "\n",
            "   Posts_Per_Day  Likes_Received_Per_Day  Comments_Received_Per_Day  \\\n",
            "0              3                      45                         10   \n",
            "1              5                      20                         25   \n",
            "2              2                      15                          5   \n",
            "3              8                     100                         30   \n",
            "4              1                       5                          2   \n",
            "\n",
            "   Messages_Sent_Per_Day Dominant_Emotion  \n",
            "0                     12        Happiness  \n",
            "1                     30            Anger  \n",
            "2                     20          Neutral  \n",
            "3                     50          Anxiety  \n",
            "4                     10          Boredom  \n"
          ]
        }
      ],
      "source": [
        "print(df.head())"
      ]
    },
    {
      "cell_type": "markdown",
      "id": "8b103775",
      "metadata": {
        "id": "8b103775"
      },
      "source": [
        "Since its multiclass-classification, the classes column 'Dominant_Emotion' has more than two classes.\n",
        "\n",
        "**Can you find out what these classes are?**"
      ]
    },
    {
      "cell_type": "code",
      "execution_count": null,
      "id": "b937f339",
      "metadata": {
        "id": "b937f339"
      },
      "outputs": [],
      "source": [
        "#ENTER YOUR CODE HERE"
      ]
    },
    {
      "cell_type": "code",
      "execution_count": null,
      "id": "52f3cfbc",
      "metadata": {
        "colab": {
          "base_uri": "https://localhost:8080/"
        },
        "id": "52f3cfbc",
        "outputId": "ba7205f7-0873-480f-f1af-bdb6b102c6f0"
      },
      "outputs": [
        {
          "output_type": "stream",
          "name": "stdout",
          "text": [
            "['Happiness' 'Anger' 'Neutral' 'Anxiety' 'Boredom' 'Sadness']\n"
          ]
        }
      ],
      "source": [
        "print(df['Dominant_Emotion'].unique())"
      ]
    },
    {
      "cell_type": "markdown",
      "id": "14ea261c",
      "metadata": {
        "id": "14ea261c"
      },
      "source": [
        "Actually this isn't the only categorical column in the dataset. There are other too.\n",
        "\n",
        "**Print their values as well!**"
      ]
    },
    {
      "cell_type": "code",
      "execution_count": null,
      "id": "9f1999db",
      "metadata": {
        "id": "9f1999db"
      },
      "outputs": [],
      "source": [
        "#ENTER YOUR CODE HERE"
      ]
    },
    {
      "cell_type": "code",
      "execution_count": null,
      "id": "1436646a",
      "metadata": {
        "colab": {
          "base_uri": "https://localhost:8080/"
        },
        "id": "1436646a",
        "outputId": "d0db058e-cfd5-4f4f-8d88-e32d06c35e65"
      },
      "outputs": [
        {
          "output_type": "stream",
          "name": "stdout",
          "text": [
            "The genders are: ['Female' 'Male' 'Non-binary']\n",
            "The platforms are: ['Instagram' 'Twitter' 'Facebook' 'LinkedIn' 'Whatsapp' 'Telegram'\n",
            " 'Snapchat']\n"
          ]
        }
      ],
      "source": [
        "print(f\"The genders are: {df['Gender'].unique()}\")\n",
        "print(f\"The platforms are: {df['Platform'].unique()}\")"
      ]
    },
    {
      "cell_type": "markdown",
      "id": "89312ac6",
      "metadata": {
        "id": "89312ac6"
      },
      "source": [
        "Many models, including KNN, will only work with numerical data. Hence the textual categories need to go. We will use something called \"one-hot encoding\" for transforming our features and \"labelling\" for our categories.\n",
        "\n",
        "**Import the pandas module used for one-hot encoding**"
      ]
    },
    {
      "cell_type": "code",
      "execution_count": null,
      "id": "540454bc",
      "metadata": {
        "id": "540454bc"
      },
      "outputs": [],
      "source": [
        "#ENTER YOUR CODE HERE\n"
      ]
    },
    {
      "cell_type": "markdown",
      "id": "b40c32ee",
      "metadata": {
        "id": "b40c32ee"
      },
      "source": [
        "**First One-Hot Encode the 'Gender' column and replace the 'Gender' column with this.**"
      ]
    },
    {
      "cell_type": "code",
      "execution_count": null,
      "id": "d2b5f376",
      "metadata": {
        "id": "d2b5f376"
      },
      "outputs": [],
      "source": [
        "df = pd.get_dummies(df,columns = ['Gender'],dtype = int)"
      ]
    },
    {
      "cell_type": "code",
      "execution_count": null,
      "id": "0ff7889d",
      "metadata": {
        "colab": {
          "base_uri": "https://localhost:8080/"
        },
        "id": "0ff7889d",
        "outputId": "49026070-0bb4-48f3-bc0d-b0bda95e511b"
      },
      "outputs": [
        {
          "output_type": "stream",
          "name": "stdout",
          "text": [
            "     User_ID  Age   Platform  Daily_Usage_Time (minutes)  Posts_Per_Day  \\\n",
            "0          1   25  Instagram                         120              3   \n",
            "1          2   30    Twitter                          90              5   \n",
            "2          3   22   Facebook                          60              2   \n",
            "3          4   28  Instagram                         200              8   \n",
            "4          5   33   LinkedIn                          45              1   \n",
            "..       ...  ...        ...                         ...            ...   \n",
            "919      996   33    Twitter                          85              4   \n",
            "920      997   22   Facebook                          70              1   \n",
            "921      998   35   Whatsapp                         110              3   \n",
            "922      999   28   Telegram                          60              2   \n",
            "923     1000   27   Snapchat                         120              4   \n",
            "\n",
            "     Likes_Received_Per_Day  Comments_Received_Per_Day  Messages_Sent_Per_Day  \\\n",
            "0                        45                         10                     12   \n",
            "1                        20                         25                     30   \n",
            "2                        15                          5                     20   \n",
            "3                       100                         30                     50   \n",
            "4                         5                          2                     10   \n",
            "..                      ...                        ...                    ...   \n",
            "919                      35                         18                     18   \n",
            "920                      14                          6                     10   \n",
            "921                      50                         25                     25   \n",
            "922                      18                          8                     18   \n",
            "923                      40                         18                     22   \n",
            "\n",
            "    Dominant_Emotion  Gender_Female  Gender_Male  Gender_Non-binary  \n",
            "0          Happiness              1            0                  0  \n",
            "1              Anger              0            1                  0  \n",
            "2            Neutral              0            0                  1  \n",
            "3            Anxiety              1            0                  0  \n",
            "4            Boredom              0            1                  0  \n",
            "..               ...            ...          ...                ...  \n",
            "919          Boredom              0            0                  1  \n",
            "920          Neutral              1            0                  0  \n",
            "921        Happiness              0            1                  0  \n",
            "922            Anger              0            0                  1  \n",
            "923          Neutral              1            0                  0  \n",
            "\n",
            "[924 rows x 12 columns]\n"
          ]
        }
      ],
      "source": [
        "print(df)"
      ]
    },
    {
      "cell_type": "markdown",
      "id": "e95e02f3",
      "metadata": {
        "id": "e95e02f3"
      },
      "source": [
        "**Repeat the drill for the column 'Platform'.**"
      ]
    },
    {
      "cell_type": "code",
      "execution_count": null,
      "id": "4e6c6fef",
      "metadata": {
        "id": "4e6c6fef"
      },
      "outputs": [],
      "source": [
        "df = pd.get_dummies(df,columns = ['Platform'],dtype = int)"
      ]
    },
    {
      "cell_type": "code",
      "execution_count": null,
      "id": "117956cb",
      "metadata": {
        "colab": {
          "base_uri": "https://localhost:8080/"
        },
        "id": "117956cb",
        "outputId": "91fe3605-0efc-4b16-b814-ba1ec0e266b1"
      },
      "outputs": [
        {
          "output_type": "stream",
          "name": "stdout",
          "text": [
            "     User_ID  Age  Daily_Usage_Time (minutes)  Posts_Per_Day  \\\n",
            "0          1   25                         120              3   \n",
            "1          2   30                          90              5   \n",
            "2          3   22                          60              2   \n",
            "3          4   28                         200              8   \n",
            "4          5   33                          45              1   \n",
            "..       ...  ...                         ...            ...   \n",
            "919      996   33                          85              4   \n",
            "920      997   22                          70              1   \n",
            "921      998   35                         110              3   \n",
            "922      999   28                          60              2   \n",
            "923     1000   27                         120              4   \n",
            "\n",
            "     Likes_Received_Per_Day  Comments_Received_Per_Day  Messages_Sent_Per_Day  \\\n",
            "0                        45                         10                     12   \n",
            "1                        20                         25                     30   \n",
            "2                        15                          5                     20   \n",
            "3                       100                         30                     50   \n",
            "4                         5                          2                     10   \n",
            "..                      ...                        ...                    ...   \n",
            "919                      35                         18                     18   \n",
            "920                      14                          6                     10   \n",
            "921                      50                         25                     25   \n",
            "922                      18                          8                     18   \n",
            "923                      40                         18                     22   \n",
            "\n",
            "    Dominant_Emotion  Gender_Female  Gender_Male  Gender_Non-binary  \\\n",
            "0          Happiness              1            0                  0   \n",
            "1              Anger              0            1                  0   \n",
            "2            Neutral              0            0                  1   \n",
            "3            Anxiety              1            0                  0   \n",
            "4            Boredom              0            1                  0   \n",
            "..               ...            ...          ...                ...   \n",
            "919          Boredom              0            0                  1   \n",
            "920          Neutral              1            0                  0   \n",
            "921        Happiness              0            1                  0   \n",
            "922            Anger              0            0                  1   \n",
            "923          Neutral              1            0                  0   \n",
            "\n",
            "     Platform_Facebook  Platform_Instagram  Platform_LinkedIn  \\\n",
            "0                    0                   1                  0   \n",
            "1                    0                   0                  0   \n",
            "2                    1                   0                  0   \n",
            "3                    0                   1                  0   \n",
            "4                    0                   0                  1   \n",
            "..                 ...                 ...                ...   \n",
            "919                  0                   0                  0   \n",
            "920                  1                   0                  0   \n",
            "921                  0                   0                  0   \n",
            "922                  0                   0                  0   \n",
            "923                  0                   0                  0   \n",
            "\n",
            "     Platform_Snapchat  Platform_Telegram  Platform_Twitter  Platform_Whatsapp  \n",
            "0                    0                  0                 0                  0  \n",
            "1                    0                  0                 1                  0  \n",
            "2                    0                  0                 0                  0  \n",
            "3                    0                  0                 0                  0  \n",
            "4                    0                  0                 0                  0  \n",
            "..                 ...                ...               ...                ...  \n",
            "919                  0                  0                 1                  0  \n",
            "920                  0                  0                 0                  0  \n",
            "921                  0                  0                 0                  1  \n",
            "922                  0                  1                 0                  0  \n",
            "923                  1                  0                 0                  0  \n",
            "\n",
            "[924 rows x 18 columns]\n"
          ]
        }
      ],
      "source": [
        "print(df)"
      ]
    },
    {
      "cell_type": "markdown",
      "id": "5c7e8ba6",
      "metadata": {
        "id": "5c7e8ba6"
      },
      "source": [
        "Last categorical feature is our label column.\n",
        "\n",
        "**Import the module used for label encoding.**"
      ]
    },
    {
      "cell_type": "code",
      "execution_count": null,
      "id": "88e0d9be",
      "metadata": {
        "id": "88e0d9be"
      },
      "outputs": [],
      "source": [
        "from sklearn.preprocessing import LabelEncoder\n",
        "encoder = LabelEncoder()"
      ]
    },
    {
      "cell_type": "markdown",
      "id": "e02a0ece",
      "metadata": {
        "id": "e02a0ece"
      },
      "source": [
        "**Now label encode the column 'Dominant_Emotion'**"
      ]
    },
    {
      "cell_type": "code",
      "execution_count": null,
      "id": "ecba97af",
      "metadata": {
        "id": "ecba97af"
      },
      "outputs": [],
      "source": [
        "df['Dominant_Emotion'] = encoder.fit_transform(df['Dominant_Emotion'])\n",
        "decoder = encoder.inverse_transform"
      ]
    },
    {
      "cell_type": "code",
      "execution_count": null,
      "id": "933767cc",
      "metadata": {
        "colab": {
          "base_uri": "https://localhost:8080/"
        },
        "id": "933767cc",
        "outputId": "9c90088b-cac2-4b84-9b80-ecd64cb4842b"
      },
      "outputs": [
        {
          "output_type": "stream",
          "name": "stdout",
          "text": [
            "     User_ID  Age  Daily_Usage_Time (minutes)  Posts_Per_Day  \\\n",
            "0          1   25                         120              3   \n",
            "1          2   30                          90              5   \n",
            "2          3   22                          60              2   \n",
            "3          4   28                         200              8   \n",
            "4          5   33                          45              1   \n",
            "..       ...  ...                         ...            ...   \n",
            "919      996   33                          85              4   \n",
            "920      997   22                          70              1   \n",
            "921      998   35                         110              3   \n",
            "922      999   28                          60              2   \n",
            "923     1000   27                         120              4   \n",
            "\n",
            "     Likes_Received_Per_Day  Comments_Received_Per_Day  Messages_Sent_Per_Day  \\\n",
            "0                        45                         10                     12   \n",
            "1                        20                         25                     30   \n",
            "2                        15                          5                     20   \n",
            "3                       100                         30                     50   \n",
            "4                         5                          2                     10   \n",
            "..                      ...                        ...                    ...   \n",
            "919                      35                         18                     18   \n",
            "920                      14                          6                     10   \n",
            "921                      50                         25                     25   \n",
            "922                      18                          8                     18   \n",
            "923                      40                         18                     22   \n",
            "\n",
            "     Dominant_Emotion  Gender_Female  Gender_Male  Gender_Non-binary  \\\n",
            "0                   3              1            0                  0   \n",
            "1                   0              0            1                  0   \n",
            "2                   4              0            0                  1   \n",
            "3                   1              1            0                  0   \n",
            "4                   2              0            1                  0   \n",
            "..                ...            ...          ...                ...   \n",
            "919                 2              0            0                  1   \n",
            "920                 4              1            0                  0   \n",
            "921                 3              0            1                  0   \n",
            "922                 0              0            0                  1   \n",
            "923                 4              1            0                  0   \n",
            "\n",
            "     Platform_Facebook  Platform_Instagram  Platform_LinkedIn  \\\n",
            "0                    0                   1                  0   \n",
            "1                    0                   0                  0   \n",
            "2                    1                   0                  0   \n",
            "3                    0                   1                  0   \n",
            "4                    0                   0                  1   \n",
            "..                 ...                 ...                ...   \n",
            "919                  0                   0                  0   \n",
            "920                  1                   0                  0   \n",
            "921                  0                   0                  0   \n",
            "922                  0                   0                  0   \n",
            "923                  0                   0                  0   \n",
            "\n",
            "     Platform_Snapchat  Platform_Telegram  Platform_Twitter  Platform_Whatsapp  \n",
            "0                    0                  0                 0                  0  \n",
            "1                    0                  0                 1                  0  \n",
            "2                    0                  0                 0                  0  \n",
            "3                    0                  0                 0                  0  \n",
            "4                    0                  0                 0                  0  \n",
            "..                 ...                ...               ...                ...  \n",
            "919                  0                  0                 1                  0  \n",
            "920                  0                  0                 0                  0  \n",
            "921                  0                  0                 0                  1  \n",
            "922                  0                  1                 0                  0  \n",
            "923                  1                  0                 0                  0  \n",
            "\n",
            "[924 rows x 18 columns]\n"
          ]
        }
      ],
      "source": [
        "print(df)"
      ]
    },
    {
      "cell_type": "markdown",
      "id": "806867c8",
      "metadata": {
        "id": "806867c8"
      },
      "source": [
        "Now we have only numerical data, phew! Lets start training!\n",
        "\n",
        "**Create the freatures dataframe and the labels dataframe as we had done before, and split them into train and test parts. Do you need to import the libraries again?**"
      ]
    },
    {
      "cell_type": "code",
      "execution_count": null,
      "id": "fe5d5076",
      "metadata": {
        "id": "fe5d5076"
      },
      "outputs": [],
      "source": [
        "X = df.drop(['Dominant_Emotion','User_ID'],axis = 1)\n",
        "Y = df['Dominant_Emotion']\n",
        "X_train,X_test,Y_train,Y_test = train_test_split(X,Y,test_size = 0.2)"
      ]
    },
    {
      "cell_type": "code",
      "execution_count": null,
      "id": "07a812ca",
      "metadata": {
        "colab": {
          "base_uri": "https://localhost:8080/"
        },
        "id": "07a812ca",
        "outputId": "1b98b785-44e5-4bf7-a335-51855ad3157f"
      },
      "outputs": [
        {
          "output_type": "stream",
          "name": "stdout",
          "text": [
            "The shape of the training features dataframe is: (739, 16)\n",
            "The shape of the testing features dataframe is: (185, 16)\n",
            "The shape of the training labels dataframe is: (739,)\n",
            "The shape of the testing labels dataframe is: (185,)\n",
            "The train-to-test split ratio is: 3.9945945945945946\n"
          ]
        }
      ],
      "source": [
        "print(f\"The shape of the training features dataframe is: {X_train.shape}\")\n",
        "print(f\"The shape of the testing features dataframe is: {X_test.shape}\")\n",
        "print(f\"The shape of the training labels dataframe is: {Y_train.shape}\")\n",
        "print(f\"The shape of the testing labels dataframe is: {Y_test.shape}\")\n",
        "print(f\"The train-to-test split ratio is: {X_train.shape[0]/X_test.shape[0]}\")"
      ]
    },
    {
      "cell_type": "markdown",
      "id": "c7f975fb",
      "metadata": {
        "id": "c7f975fb"
      },
      "source": [
        "**Import the module used for training a KNN model.**"
      ]
    },
    {
      "cell_type": "code",
      "execution_count": null,
      "id": "6aca486b",
      "metadata": {
        "id": "6aca486b"
      },
      "outputs": [],
      "source": [
        "#ENTER YOUR CODE HERE\n",
        "from sklearn.neighbors import KNeighborsClassifier"
      ]
    },
    {
      "cell_type": "markdown",
      "id": "c3107a53",
      "metadata": {
        "id": "c3107a53"
      },
      "source": [
        "**Train your model.**"
      ]
    },
    {
      "cell_type": "code",
      "execution_count": null,
      "id": "0d222848",
      "metadata": {
        "id": "0d222848",
        "colab": {
          "base_uri": "https://localhost:8080/",
          "height": 80
        },
        "outputId": "227e8058-4ab9-4e49-f6c4-a5c12e2ab301"
      },
      "outputs": [
        {
          "output_type": "execute_result",
          "data": {
            "text/plain": [
              "KNeighborsClassifier()"
            ],
            "text/html": [
              "<style>#sk-container-id-3 {\n",
              "  /* Definition of color scheme common for light and dark mode */\n",
              "  --sklearn-color-text: #000;\n",
              "  --sklearn-color-text-muted: #666;\n",
              "  --sklearn-color-line: gray;\n",
              "  /* Definition of color scheme for unfitted estimators */\n",
              "  --sklearn-color-unfitted-level-0: #fff5e6;\n",
              "  --sklearn-color-unfitted-level-1: #f6e4d2;\n",
              "  --sklearn-color-unfitted-level-2: #ffe0b3;\n",
              "  --sklearn-color-unfitted-level-3: chocolate;\n",
              "  /* Definition of color scheme for fitted estimators */\n",
              "  --sklearn-color-fitted-level-0: #f0f8ff;\n",
              "  --sklearn-color-fitted-level-1: #d4ebff;\n",
              "  --sklearn-color-fitted-level-2: #b3dbfd;\n",
              "  --sklearn-color-fitted-level-3: cornflowerblue;\n",
              "\n",
              "  /* Specific color for light theme */\n",
              "  --sklearn-color-text-on-default-background: var(--sg-text-color, var(--theme-code-foreground, var(--jp-content-font-color1, black)));\n",
              "  --sklearn-color-background: var(--sg-background-color, var(--theme-background, var(--jp-layout-color0, white)));\n",
              "  --sklearn-color-border-box: var(--sg-text-color, var(--theme-code-foreground, var(--jp-content-font-color1, black)));\n",
              "  --sklearn-color-icon: #696969;\n",
              "\n",
              "  @media (prefers-color-scheme: dark) {\n",
              "    /* Redefinition of color scheme for dark theme */\n",
              "    --sklearn-color-text-on-default-background: var(--sg-text-color, var(--theme-code-foreground, var(--jp-content-font-color1, white)));\n",
              "    --sklearn-color-background: var(--sg-background-color, var(--theme-background, var(--jp-layout-color0, #111)));\n",
              "    --sklearn-color-border-box: var(--sg-text-color, var(--theme-code-foreground, var(--jp-content-font-color1, white)));\n",
              "    --sklearn-color-icon: #878787;\n",
              "  }\n",
              "}\n",
              "\n",
              "#sk-container-id-3 {\n",
              "  color: var(--sklearn-color-text);\n",
              "}\n",
              "\n",
              "#sk-container-id-3 pre {\n",
              "  padding: 0;\n",
              "}\n",
              "\n",
              "#sk-container-id-3 input.sk-hidden--visually {\n",
              "  border: 0;\n",
              "  clip: rect(1px 1px 1px 1px);\n",
              "  clip: rect(1px, 1px, 1px, 1px);\n",
              "  height: 1px;\n",
              "  margin: -1px;\n",
              "  overflow: hidden;\n",
              "  padding: 0;\n",
              "  position: absolute;\n",
              "  width: 1px;\n",
              "}\n",
              "\n",
              "#sk-container-id-3 div.sk-dashed-wrapped {\n",
              "  border: 1px dashed var(--sklearn-color-line);\n",
              "  margin: 0 0.4em 0.5em 0.4em;\n",
              "  box-sizing: border-box;\n",
              "  padding-bottom: 0.4em;\n",
              "  background-color: var(--sklearn-color-background);\n",
              "}\n",
              "\n",
              "#sk-container-id-3 div.sk-container {\n",
              "  /* jupyter's `normalize.less` sets `[hidden] { display: none; }`\n",
              "     but bootstrap.min.css set `[hidden] { display: none !important; }`\n",
              "     so we also need the `!important` here to be able to override the\n",
              "     default hidden behavior on the sphinx rendered scikit-learn.org.\n",
              "     See: https://github.com/scikit-learn/scikit-learn/issues/21755 */\n",
              "  display: inline-block !important;\n",
              "  position: relative;\n",
              "}\n",
              "\n",
              "#sk-container-id-3 div.sk-text-repr-fallback {\n",
              "  display: none;\n",
              "}\n",
              "\n",
              "div.sk-parallel-item,\n",
              "div.sk-serial,\n",
              "div.sk-item {\n",
              "  /* draw centered vertical line to link estimators */\n",
              "  background-image: linear-gradient(var(--sklearn-color-text-on-default-background), var(--sklearn-color-text-on-default-background));\n",
              "  background-size: 2px 100%;\n",
              "  background-repeat: no-repeat;\n",
              "  background-position: center center;\n",
              "}\n",
              "\n",
              "/* Parallel-specific style estimator block */\n",
              "\n",
              "#sk-container-id-3 div.sk-parallel-item::after {\n",
              "  content: \"\";\n",
              "  width: 100%;\n",
              "  border-bottom: 2px solid var(--sklearn-color-text-on-default-background);\n",
              "  flex-grow: 1;\n",
              "}\n",
              "\n",
              "#sk-container-id-3 div.sk-parallel {\n",
              "  display: flex;\n",
              "  align-items: stretch;\n",
              "  justify-content: center;\n",
              "  background-color: var(--sklearn-color-background);\n",
              "  position: relative;\n",
              "}\n",
              "\n",
              "#sk-container-id-3 div.sk-parallel-item {\n",
              "  display: flex;\n",
              "  flex-direction: column;\n",
              "}\n",
              "\n",
              "#sk-container-id-3 div.sk-parallel-item:first-child::after {\n",
              "  align-self: flex-end;\n",
              "  width: 50%;\n",
              "}\n",
              "\n",
              "#sk-container-id-3 div.sk-parallel-item:last-child::after {\n",
              "  align-self: flex-start;\n",
              "  width: 50%;\n",
              "}\n",
              "\n",
              "#sk-container-id-3 div.sk-parallel-item:only-child::after {\n",
              "  width: 0;\n",
              "}\n",
              "\n",
              "/* Serial-specific style estimator block */\n",
              "\n",
              "#sk-container-id-3 div.sk-serial {\n",
              "  display: flex;\n",
              "  flex-direction: column;\n",
              "  align-items: center;\n",
              "  background-color: var(--sklearn-color-background);\n",
              "  padding-right: 1em;\n",
              "  padding-left: 1em;\n",
              "}\n",
              "\n",
              "\n",
              "/* Toggleable style: style used for estimator/Pipeline/ColumnTransformer box that is\n",
              "clickable and can be expanded/collapsed.\n",
              "- Pipeline and ColumnTransformer use this feature and define the default style\n",
              "- Estimators will overwrite some part of the style using the `sk-estimator` class\n",
              "*/\n",
              "\n",
              "/* Pipeline and ColumnTransformer style (default) */\n",
              "\n",
              "#sk-container-id-3 div.sk-toggleable {\n",
              "  /* Default theme specific background. It is overwritten whether we have a\n",
              "  specific estimator or a Pipeline/ColumnTransformer */\n",
              "  background-color: var(--sklearn-color-background);\n",
              "}\n",
              "\n",
              "/* Toggleable label */\n",
              "#sk-container-id-3 label.sk-toggleable__label {\n",
              "  cursor: pointer;\n",
              "  display: flex;\n",
              "  width: 100%;\n",
              "  margin-bottom: 0;\n",
              "  padding: 0.5em;\n",
              "  box-sizing: border-box;\n",
              "  text-align: center;\n",
              "  align-items: start;\n",
              "  justify-content: space-between;\n",
              "  gap: 0.5em;\n",
              "}\n",
              "\n",
              "#sk-container-id-3 label.sk-toggleable__label .caption {\n",
              "  font-size: 0.6rem;\n",
              "  font-weight: lighter;\n",
              "  color: var(--sklearn-color-text-muted);\n",
              "}\n",
              "\n",
              "#sk-container-id-3 label.sk-toggleable__label-arrow:before {\n",
              "  /* Arrow on the left of the label */\n",
              "  content: \"▸\";\n",
              "  float: left;\n",
              "  margin-right: 0.25em;\n",
              "  color: var(--sklearn-color-icon);\n",
              "}\n",
              "\n",
              "#sk-container-id-3 label.sk-toggleable__label-arrow:hover:before {\n",
              "  color: var(--sklearn-color-text);\n",
              "}\n",
              "\n",
              "/* Toggleable content - dropdown */\n",
              "\n",
              "#sk-container-id-3 div.sk-toggleable__content {\n",
              "  max-height: 0;\n",
              "  max-width: 0;\n",
              "  overflow: hidden;\n",
              "  text-align: left;\n",
              "  /* unfitted */\n",
              "  background-color: var(--sklearn-color-unfitted-level-0);\n",
              "}\n",
              "\n",
              "#sk-container-id-3 div.sk-toggleable__content.fitted {\n",
              "  /* fitted */\n",
              "  background-color: var(--sklearn-color-fitted-level-0);\n",
              "}\n",
              "\n",
              "#sk-container-id-3 div.sk-toggleable__content pre {\n",
              "  margin: 0.2em;\n",
              "  border-radius: 0.25em;\n",
              "  color: var(--sklearn-color-text);\n",
              "  /* unfitted */\n",
              "  background-color: var(--sklearn-color-unfitted-level-0);\n",
              "}\n",
              "\n",
              "#sk-container-id-3 div.sk-toggleable__content.fitted pre {\n",
              "  /* unfitted */\n",
              "  background-color: var(--sklearn-color-fitted-level-0);\n",
              "}\n",
              "\n",
              "#sk-container-id-3 input.sk-toggleable__control:checked~div.sk-toggleable__content {\n",
              "  /* Expand drop-down */\n",
              "  max-height: 200px;\n",
              "  max-width: 100%;\n",
              "  overflow: auto;\n",
              "}\n",
              "\n",
              "#sk-container-id-3 input.sk-toggleable__control:checked~label.sk-toggleable__label-arrow:before {\n",
              "  content: \"▾\";\n",
              "}\n",
              "\n",
              "/* Pipeline/ColumnTransformer-specific style */\n",
              "\n",
              "#sk-container-id-3 div.sk-label input.sk-toggleable__control:checked~label.sk-toggleable__label {\n",
              "  color: var(--sklearn-color-text);\n",
              "  background-color: var(--sklearn-color-unfitted-level-2);\n",
              "}\n",
              "\n",
              "#sk-container-id-3 div.sk-label.fitted input.sk-toggleable__control:checked~label.sk-toggleable__label {\n",
              "  background-color: var(--sklearn-color-fitted-level-2);\n",
              "}\n",
              "\n",
              "/* Estimator-specific style */\n",
              "\n",
              "/* Colorize estimator box */\n",
              "#sk-container-id-3 div.sk-estimator input.sk-toggleable__control:checked~label.sk-toggleable__label {\n",
              "  /* unfitted */\n",
              "  background-color: var(--sklearn-color-unfitted-level-2);\n",
              "}\n",
              "\n",
              "#sk-container-id-3 div.sk-estimator.fitted input.sk-toggleable__control:checked~label.sk-toggleable__label {\n",
              "  /* fitted */\n",
              "  background-color: var(--sklearn-color-fitted-level-2);\n",
              "}\n",
              "\n",
              "#sk-container-id-3 div.sk-label label.sk-toggleable__label,\n",
              "#sk-container-id-3 div.sk-label label {\n",
              "  /* The background is the default theme color */\n",
              "  color: var(--sklearn-color-text-on-default-background);\n",
              "}\n",
              "\n",
              "/* On hover, darken the color of the background */\n",
              "#sk-container-id-3 div.sk-label:hover label.sk-toggleable__label {\n",
              "  color: var(--sklearn-color-text);\n",
              "  background-color: var(--sklearn-color-unfitted-level-2);\n",
              "}\n",
              "\n",
              "/* Label box, darken color on hover, fitted */\n",
              "#sk-container-id-3 div.sk-label.fitted:hover label.sk-toggleable__label.fitted {\n",
              "  color: var(--sklearn-color-text);\n",
              "  background-color: var(--sklearn-color-fitted-level-2);\n",
              "}\n",
              "\n",
              "/* Estimator label */\n",
              "\n",
              "#sk-container-id-3 div.sk-label label {\n",
              "  font-family: monospace;\n",
              "  font-weight: bold;\n",
              "  display: inline-block;\n",
              "  line-height: 1.2em;\n",
              "}\n",
              "\n",
              "#sk-container-id-3 div.sk-label-container {\n",
              "  text-align: center;\n",
              "}\n",
              "\n",
              "/* Estimator-specific */\n",
              "#sk-container-id-3 div.sk-estimator {\n",
              "  font-family: monospace;\n",
              "  border: 1px dotted var(--sklearn-color-border-box);\n",
              "  border-radius: 0.25em;\n",
              "  box-sizing: border-box;\n",
              "  margin-bottom: 0.5em;\n",
              "  /* unfitted */\n",
              "  background-color: var(--sklearn-color-unfitted-level-0);\n",
              "}\n",
              "\n",
              "#sk-container-id-3 div.sk-estimator.fitted {\n",
              "  /* fitted */\n",
              "  background-color: var(--sklearn-color-fitted-level-0);\n",
              "}\n",
              "\n",
              "/* on hover */\n",
              "#sk-container-id-3 div.sk-estimator:hover {\n",
              "  /* unfitted */\n",
              "  background-color: var(--sklearn-color-unfitted-level-2);\n",
              "}\n",
              "\n",
              "#sk-container-id-3 div.sk-estimator.fitted:hover {\n",
              "  /* fitted */\n",
              "  background-color: var(--sklearn-color-fitted-level-2);\n",
              "}\n",
              "\n",
              "/* Specification for estimator info (e.g. \"i\" and \"?\") */\n",
              "\n",
              "/* Common style for \"i\" and \"?\" */\n",
              "\n",
              ".sk-estimator-doc-link,\n",
              "a:link.sk-estimator-doc-link,\n",
              "a:visited.sk-estimator-doc-link {\n",
              "  float: right;\n",
              "  font-size: smaller;\n",
              "  line-height: 1em;\n",
              "  font-family: monospace;\n",
              "  background-color: var(--sklearn-color-background);\n",
              "  border-radius: 1em;\n",
              "  height: 1em;\n",
              "  width: 1em;\n",
              "  text-decoration: none !important;\n",
              "  margin-left: 0.5em;\n",
              "  text-align: center;\n",
              "  /* unfitted */\n",
              "  border: var(--sklearn-color-unfitted-level-1) 1pt solid;\n",
              "  color: var(--sklearn-color-unfitted-level-1);\n",
              "}\n",
              "\n",
              ".sk-estimator-doc-link.fitted,\n",
              "a:link.sk-estimator-doc-link.fitted,\n",
              "a:visited.sk-estimator-doc-link.fitted {\n",
              "  /* fitted */\n",
              "  border: var(--sklearn-color-fitted-level-1) 1pt solid;\n",
              "  color: var(--sklearn-color-fitted-level-1);\n",
              "}\n",
              "\n",
              "/* On hover */\n",
              "div.sk-estimator:hover .sk-estimator-doc-link:hover,\n",
              ".sk-estimator-doc-link:hover,\n",
              "div.sk-label-container:hover .sk-estimator-doc-link:hover,\n",
              ".sk-estimator-doc-link:hover {\n",
              "  /* unfitted */\n",
              "  background-color: var(--sklearn-color-unfitted-level-3);\n",
              "  color: var(--sklearn-color-background);\n",
              "  text-decoration: none;\n",
              "}\n",
              "\n",
              "div.sk-estimator.fitted:hover .sk-estimator-doc-link.fitted:hover,\n",
              ".sk-estimator-doc-link.fitted:hover,\n",
              "div.sk-label-container:hover .sk-estimator-doc-link.fitted:hover,\n",
              ".sk-estimator-doc-link.fitted:hover {\n",
              "  /* fitted */\n",
              "  background-color: var(--sklearn-color-fitted-level-3);\n",
              "  color: var(--sklearn-color-background);\n",
              "  text-decoration: none;\n",
              "}\n",
              "\n",
              "/* Span, style for the box shown on hovering the info icon */\n",
              ".sk-estimator-doc-link span {\n",
              "  display: none;\n",
              "  z-index: 9999;\n",
              "  position: relative;\n",
              "  font-weight: normal;\n",
              "  right: .2ex;\n",
              "  padding: .5ex;\n",
              "  margin: .5ex;\n",
              "  width: min-content;\n",
              "  min-width: 20ex;\n",
              "  max-width: 50ex;\n",
              "  color: var(--sklearn-color-text);\n",
              "  box-shadow: 2pt 2pt 4pt #999;\n",
              "  /* unfitted */\n",
              "  background: var(--sklearn-color-unfitted-level-0);\n",
              "  border: .5pt solid var(--sklearn-color-unfitted-level-3);\n",
              "}\n",
              "\n",
              ".sk-estimator-doc-link.fitted span {\n",
              "  /* fitted */\n",
              "  background: var(--sklearn-color-fitted-level-0);\n",
              "  border: var(--sklearn-color-fitted-level-3);\n",
              "}\n",
              "\n",
              ".sk-estimator-doc-link:hover span {\n",
              "  display: block;\n",
              "}\n",
              "\n",
              "/* \"?\"-specific style due to the `<a>` HTML tag */\n",
              "\n",
              "#sk-container-id-3 a.estimator_doc_link {\n",
              "  float: right;\n",
              "  font-size: 1rem;\n",
              "  line-height: 1em;\n",
              "  font-family: monospace;\n",
              "  background-color: var(--sklearn-color-background);\n",
              "  border-radius: 1rem;\n",
              "  height: 1rem;\n",
              "  width: 1rem;\n",
              "  text-decoration: none;\n",
              "  /* unfitted */\n",
              "  color: var(--sklearn-color-unfitted-level-1);\n",
              "  border: var(--sklearn-color-unfitted-level-1) 1pt solid;\n",
              "}\n",
              "\n",
              "#sk-container-id-3 a.estimator_doc_link.fitted {\n",
              "  /* fitted */\n",
              "  border: var(--sklearn-color-fitted-level-1) 1pt solid;\n",
              "  color: var(--sklearn-color-fitted-level-1);\n",
              "}\n",
              "\n",
              "/* On hover */\n",
              "#sk-container-id-3 a.estimator_doc_link:hover {\n",
              "  /* unfitted */\n",
              "  background-color: var(--sklearn-color-unfitted-level-3);\n",
              "  color: var(--sklearn-color-background);\n",
              "  text-decoration: none;\n",
              "}\n",
              "\n",
              "#sk-container-id-3 a.estimator_doc_link.fitted:hover {\n",
              "  /* fitted */\n",
              "  background-color: var(--sklearn-color-fitted-level-3);\n",
              "}\n",
              "</style><div id=\"sk-container-id-3\" class=\"sk-top-container\"><div class=\"sk-text-repr-fallback\"><pre>KNeighborsClassifier()</pre><b>In a Jupyter environment, please rerun this cell to show the HTML representation or trust the notebook. <br />On GitHub, the HTML representation is unable to render, please try loading this page with nbviewer.org.</b></div><div class=\"sk-container\" hidden><div class=\"sk-item\"><div class=\"sk-estimator fitted sk-toggleable\"><input class=\"sk-toggleable__control sk-hidden--visually\" id=\"sk-estimator-id-3\" type=\"checkbox\" checked><label for=\"sk-estimator-id-3\" class=\"sk-toggleable__label fitted sk-toggleable__label-arrow\"><div><div>KNeighborsClassifier</div></div><div><a class=\"sk-estimator-doc-link fitted\" rel=\"noreferrer\" target=\"_blank\" href=\"https://scikit-learn.org/1.6/modules/generated/sklearn.neighbors.KNeighborsClassifier.html\">?<span>Documentation for KNeighborsClassifier</span></a><span class=\"sk-estimator-doc-link fitted\">i<span>Fitted</span></span></div></label><div class=\"sk-toggleable__content fitted\"><pre>KNeighborsClassifier()</pre></div> </div></div></div></div>"
            ]
          },
          "metadata": {},
          "execution_count": 51
        }
      ],
      "source": [
        "#ENTER YOUR CODE HERE\n",
        "model  = KNeighborsClassifier()\n",
        "model.fit(X_train,Y_train)"
      ]
    },
    {
      "cell_type": "markdown",
      "id": "5f118ed1",
      "metadata": {
        "id": "5f118ed1"
      },
      "source": [
        "**Create and print the Prediction Dataframe.**"
      ]
    },
    {
      "cell_type": "code",
      "execution_count": null,
      "id": "5d5ba9b5",
      "metadata": {
        "id": "5d5ba9b5"
      },
      "outputs": [],
      "source": [
        "#ENTER YOUR CODE HERE"
      ]
    },
    {
      "cell_type": "code",
      "execution_count": null,
      "id": "2432aec4",
      "metadata": {
        "colab": {
          "base_uri": "https://localhost:8080/"
        },
        "id": "2432aec4",
        "outputId": "f2ffc61d-c78d-48b0-ed06-b3866e344a93"
      },
      "outputs": [
        {
          "output_type": "stream",
          "name": "stdout",
          "text": [
            "     Dominant_Emotion_Prediction\n",
            "0                              5\n",
            "1                              0\n",
            "2                              2\n",
            "3                              2\n",
            "4                              0\n",
            "..                           ...\n",
            "180                            1\n",
            "181                            4\n",
            "182                            3\n",
            "183                            3\n",
            "184                            0\n",
            "\n",
            "[185 rows x 1 columns]\n"
          ]
        }
      ],
      "source": [
        "import pandas as pd\n",
        "df_prediction = model.predict(X_test)\n",
        "pred_df = pd.DataFrame(df_prediction, columns=['Dominant_Emotion_Prediction'])\n",
        "print(pred_df)"
      ]
    },
    {
      "cell_type": "markdown",
      "id": "689d81a6",
      "metadata": {
        "id": "689d81a6"
      },
      "source": [
        "I'm guessing you notice the issue. These are not our original labels!\n",
        "\n",
        "**Tranform these labels using the encoder you had created while encoding 'Dominant_Emotion'.**"
      ]
    },
    {
      "cell_type": "code",
      "execution_count": null,
      "id": "93cd6d8f",
      "metadata": {
        "id": "93cd6d8f"
      },
      "outputs": [],
      "source": [
        "#ENTER YOUR CODE HERE"
      ]
    },
    {
      "cell_type": "code",
      "execution_count": null,
      "id": "4479f70f",
      "metadata": {
        "colab": {
          "base_uri": "https://localhost:8080/"
        },
        "id": "4479f70f",
        "outputId": "0d6ac86c-3d53-45ef-9d43-3c9f7088710c"
      },
      "outputs": [
        {
          "output_type": "stream",
          "name": "stdout",
          "text": [
            "['Sadness' 'Anger' 'Boredom' 'Boredom' 'Anger' 'Anxiety' 'Neutral'\n",
            " 'Boredom' 'Sadness' 'Anger' 'Happiness' 'Happiness' 'Happiness' 'Anxiety'\n",
            " 'Happiness' 'Boredom' 'Anxiety' 'Sadness' 'Happiness' 'Neutral' 'Neutral'\n",
            " 'Happiness' 'Boredom' 'Happiness' 'Anxiety' 'Happiness' 'Anger' 'Sadness'\n",
            " 'Anxiety' 'Neutral' 'Anxiety' 'Sadness' 'Neutral' 'Anxiety' 'Happiness'\n",
            " 'Happiness' 'Neutral' 'Happiness' 'Happiness' 'Anger' 'Happiness'\n",
            " 'Sadness' 'Happiness' 'Sadness' 'Happiness' 'Boredom' 'Sadness'\n",
            " 'Happiness' 'Happiness' 'Happiness' 'Sadness' 'Neutral' 'Anger' 'Sadness'\n",
            " 'Anxiety' 'Neutral' 'Happiness' 'Neutral' 'Sadness' 'Sadness' 'Sadness'\n",
            " 'Boredom' 'Boredom' 'Neutral' 'Anger' 'Neutral' 'Sadness' 'Happiness'\n",
            " 'Anger' 'Boredom' 'Neutral' 'Anger' 'Boredom' 'Anxiety' 'Anger'\n",
            " 'Happiness' 'Neutral' 'Neutral' 'Sadness' 'Sadness' 'Sadness' 'Sadness'\n",
            " 'Anxiety' 'Happiness' 'Boredom' 'Anxiety' 'Anxiety' 'Happiness' 'Neutral'\n",
            " 'Neutral' 'Happiness' 'Anxiety' 'Happiness' 'Boredom' 'Happiness'\n",
            " 'Happiness' 'Neutral' 'Neutral' 'Anxiety' 'Anxiety' 'Anger' 'Neutral'\n",
            " 'Anger' 'Boredom' 'Neutral' 'Anger' 'Boredom' 'Boredom' 'Sadness'\n",
            " 'Anxiety' 'Neutral' 'Happiness' 'Boredom' 'Anxiety' 'Anxiety' 'Anger'\n",
            " 'Sadness' 'Anger' 'Neutral' 'Boredom' 'Anger' 'Sadness' 'Sadness'\n",
            " 'Happiness' 'Neutral' 'Neutral' 'Happiness' 'Happiness' 'Sadness'\n",
            " 'Sadness' 'Boredom' 'Anxiety' 'Happiness' 'Sadness' 'Neutral' 'Anxiety'\n",
            " 'Happiness' 'Anxiety' 'Neutral' 'Neutral' 'Boredom' 'Happiness' 'Neutral'\n",
            " 'Anger' 'Neutral' 'Anxiety' 'Sadness' 'Happiness' 'Boredom' 'Anger'\n",
            " 'Anger' 'Sadness' 'Boredom' 'Anger' 'Boredom' 'Anger' 'Anxiety' 'Boredom'\n",
            " 'Happiness' 'Boredom' 'Anxiety' 'Happiness' 'Sadness' 'Happiness'\n",
            " 'Anxiety' 'Boredom' 'Anger' 'Neutral' 'Happiness' 'Happiness' 'Sadness'\n",
            " 'Anxiety' 'Boredom' 'Boredom' 'Anger' 'Anxiety' 'Anxiety' 'Anxiety'\n",
            " 'Anxiety' 'Anger' 'Anxiety' 'Neutral' 'Happiness' 'Happiness' 'Anger']\n"
          ]
        }
      ],
      "source": [
        "print(encoder.inverse_transform(df_prediction))"
      ]
    },
    {
      "cell_type": "markdown",
      "id": "a7f07660",
      "metadata": {
        "id": "a7f07660"
      },
      "source": [
        "**Now print the relevant metrics! Don't forget to get original y_test first!**"
      ]
    },
    {
      "cell_type": "code",
      "execution_count": null,
      "id": "72f8f643",
      "metadata": {
        "id": "72f8f643"
      },
      "outputs": [],
      "source": [
        "#ENTER YOUR CODE HERE"
      ]
    },
    {
      "cell_type": "code",
      "execution_count": null,
      "id": "ea421ae9",
      "metadata": {
        "colab": {
          "base_uri": "https://localhost:8080/"
        },
        "id": "ea421ae9",
        "outputId": "cf6df000-fbab-4f57-b99c-3113a00ade47"
      },
      "outputs": [
        {
          "output_type": "stream",
          "name": "stdout",
          "text": [
            "0.9783783783783784\n"
          ]
        }
      ],
      "source": [
        "print(accuracy_score(Y_test,df_prediction))"
      ]
    },
    {
      "cell_type": "markdown",
      "id": "0d960f22",
      "metadata": {
        "id": "0d960f22"
      },
      "source": [
        "**That's a good model!**\n",
        "\n",
        "Since it's multi-class classification, traditional metrics like precision and recall won't work. We'll judge our model using a confusion matrix and classification report!\n",
        "\n",
        "**Import the module for confusion matrix and classification report, and print them.**"
      ]
    },
    {
      "cell_type": "code",
      "execution_count": null,
      "id": "4c830ac8",
      "metadata": {
        "id": "4c830ac8"
      },
      "outputs": [],
      "source": [
        "from sklearn.metrics import confusion_matrix, classification_report"
      ]
    },
    {
      "cell_type": "code",
      "execution_count": null,
      "id": "690eb85f",
      "metadata": {
        "colab": {
          "base_uri": "https://localhost:8080/"
        },
        "id": "690eb85f",
        "outputId": "2e5fecfe-210f-4d22-dad3-2b08ee8dde7d"
      },
      "outputs": [
        {
          "output_type": "stream",
          "name": "stdout",
          "text": [
            "The confusion matrix is: [[24  1  0  0  0  0]\n",
            " [ 0 30  0  1  0  0]\n",
            " [ 0  0 26  0  0  0]\n",
            " [ 0  0  0 41  0  0]\n",
            " [ 1  0  1  0 31  0]\n",
            " [ 0  0  0  0  0 29]]\n",
            "The classification report is:               precision    recall  f1-score   support\n",
            "\n",
            "           0       0.96      0.96      0.96        25\n",
            "           1       0.97      0.97      0.97        31\n",
            "           2       0.96      1.00      0.98        26\n",
            "           3       0.98      1.00      0.99        41\n",
            "           4       1.00      0.94      0.97        33\n",
            "           5       1.00      1.00      1.00        29\n",
            "\n",
            "    accuracy                           0.98       185\n",
            "   macro avg       0.98      0.98      0.98       185\n",
            "weighted avg       0.98      0.98      0.98       185\n",
            "\n"
          ]
        }
      ],
      "source": [
        "print(f\"The confusion matrix is: {confusion_matrix(Y_test,df_prediction)}\")\n",
        "print(f\"The classification report is: {classification_report(Y_test,df_prediction)}\")"
      ]
    },
    {
      "cell_type": "markdown",
      "id": "32c6beaa",
      "metadata": {
        "id": "32c6beaa"
      },
      "source": [
        "We already have our training and test datasets ready, lets train some other models.\n",
        "\n",
        "**Import Naive Bayes**"
      ]
    },
    {
      "cell_type": "code",
      "execution_count": null,
      "id": "435cfa40",
      "metadata": {
        "id": "435cfa40"
      },
      "outputs": [],
      "source": [
        "#ENTER YOUR CODE HERE\n",
        "from sklearn.naive_bayes import GaussianNB"
      ]
    },
    {
      "cell_type": "markdown",
      "id": "7fc1b376",
      "metadata": {
        "id": "7fc1b376"
      },
      "source": [
        "**Now instantiate and fit a model.**"
      ]
    },
    {
      "cell_type": "code",
      "execution_count": null,
      "id": "83e4e7f0",
      "metadata": {
        "id": "83e4e7f0"
      },
      "outputs": [],
      "source": [
        "model = GaussianNB()"
      ]
    },
    {
      "cell_type": "code",
      "execution_count": null,
      "id": "bd78b2d4",
      "metadata": {
        "colab": {
          "base_uri": "https://localhost:8080/",
          "height": 80
        },
        "id": "bd78b2d4",
        "outputId": "184090b7-0141-45e7-af1b-99927f4cc9f6"
      },
      "outputs": [
        {
          "output_type": "execute_result",
          "data": {
            "text/plain": [
              "GaussianNB()"
            ],
            "text/html": [
              "<style>#sk-container-id-4 {\n",
              "  /* Definition of color scheme common for light and dark mode */\n",
              "  --sklearn-color-text: #000;\n",
              "  --sklearn-color-text-muted: #666;\n",
              "  --sklearn-color-line: gray;\n",
              "  /* Definition of color scheme for unfitted estimators */\n",
              "  --sklearn-color-unfitted-level-0: #fff5e6;\n",
              "  --sklearn-color-unfitted-level-1: #f6e4d2;\n",
              "  --sklearn-color-unfitted-level-2: #ffe0b3;\n",
              "  --sklearn-color-unfitted-level-3: chocolate;\n",
              "  /* Definition of color scheme for fitted estimators */\n",
              "  --sklearn-color-fitted-level-0: #f0f8ff;\n",
              "  --sklearn-color-fitted-level-1: #d4ebff;\n",
              "  --sklearn-color-fitted-level-2: #b3dbfd;\n",
              "  --sklearn-color-fitted-level-3: cornflowerblue;\n",
              "\n",
              "  /* Specific color for light theme */\n",
              "  --sklearn-color-text-on-default-background: var(--sg-text-color, var(--theme-code-foreground, var(--jp-content-font-color1, black)));\n",
              "  --sklearn-color-background: var(--sg-background-color, var(--theme-background, var(--jp-layout-color0, white)));\n",
              "  --sklearn-color-border-box: var(--sg-text-color, var(--theme-code-foreground, var(--jp-content-font-color1, black)));\n",
              "  --sklearn-color-icon: #696969;\n",
              "\n",
              "  @media (prefers-color-scheme: dark) {\n",
              "    /* Redefinition of color scheme for dark theme */\n",
              "    --sklearn-color-text-on-default-background: var(--sg-text-color, var(--theme-code-foreground, var(--jp-content-font-color1, white)));\n",
              "    --sklearn-color-background: var(--sg-background-color, var(--theme-background, var(--jp-layout-color0, #111)));\n",
              "    --sklearn-color-border-box: var(--sg-text-color, var(--theme-code-foreground, var(--jp-content-font-color1, white)));\n",
              "    --sklearn-color-icon: #878787;\n",
              "  }\n",
              "}\n",
              "\n",
              "#sk-container-id-4 {\n",
              "  color: var(--sklearn-color-text);\n",
              "}\n",
              "\n",
              "#sk-container-id-4 pre {\n",
              "  padding: 0;\n",
              "}\n",
              "\n",
              "#sk-container-id-4 input.sk-hidden--visually {\n",
              "  border: 0;\n",
              "  clip: rect(1px 1px 1px 1px);\n",
              "  clip: rect(1px, 1px, 1px, 1px);\n",
              "  height: 1px;\n",
              "  margin: -1px;\n",
              "  overflow: hidden;\n",
              "  padding: 0;\n",
              "  position: absolute;\n",
              "  width: 1px;\n",
              "}\n",
              "\n",
              "#sk-container-id-4 div.sk-dashed-wrapped {\n",
              "  border: 1px dashed var(--sklearn-color-line);\n",
              "  margin: 0 0.4em 0.5em 0.4em;\n",
              "  box-sizing: border-box;\n",
              "  padding-bottom: 0.4em;\n",
              "  background-color: var(--sklearn-color-background);\n",
              "}\n",
              "\n",
              "#sk-container-id-4 div.sk-container {\n",
              "  /* jupyter's `normalize.less` sets `[hidden] { display: none; }`\n",
              "     but bootstrap.min.css set `[hidden] { display: none !important; }`\n",
              "     so we also need the `!important` here to be able to override the\n",
              "     default hidden behavior on the sphinx rendered scikit-learn.org.\n",
              "     See: https://github.com/scikit-learn/scikit-learn/issues/21755 */\n",
              "  display: inline-block !important;\n",
              "  position: relative;\n",
              "}\n",
              "\n",
              "#sk-container-id-4 div.sk-text-repr-fallback {\n",
              "  display: none;\n",
              "}\n",
              "\n",
              "div.sk-parallel-item,\n",
              "div.sk-serial,\n",
              "div.sk-item {\n",
              "  /* draw centered vertical line to link estimators */\n",
              "  background-image: linear-gradient(var(--sklearn-color-text-on-default-background), var(--sklearn-color-text-on-default-background));\n",
              "  background-size: 2px 100%;\n",
              "  background-repeat: no-repeat;\n",
              "  background-position: center center;\n",
              "}\n",
              "\n",
              "/* Parallel-specific style estimator block */\n",
              "\n",
              "#sk-container-id-4 div.sk-parallel-item::after {\n",
              "  content: \"\";\n",
              "  width: 100%;\n",
              "  border-bottom: 2px solid var(--sklearn-color-text-on-default-background);\n",
              "  flex-grow: 1;\n",
              "}\n",
              "\n",
              "#sk-container-id-4 div.sk-parallel {\n",
              "  display: flex;\n",
              "  align-items: stretch;\n",
              "  justify-content: center;\n",
              "  background-color: var(--sklearn-color-background);\n",
              "  position: relative;\n",
              "}\n",
              "\n",
              "#sk-container-id-4 div.sk-parallel-item {\n",
              "  display: flex;\n",
              "  flex-direction: column;\n",
              "}\n",
              "\n",
              "#sk-container-id-4 div.sk-parallel-item:first-child::after {\n",
              "  align-self: flex-end;\n",
              "  width: 50%;\n",
              "}\n",
              "\n",
              "#sk-container-id-4 div.sk-parallel-item:last-child::after {\n",
              "  align-self: flex-start;\n",
              "  width: 50%;\n",
              "}\n",
              "\n",
              "#sk-container-id-4 div.sk-parallel-item:only-child::after {\n",
              "  width: 0;\n",
              "}\n",
              "\n",
              "/* Serial-specific style estimator block */\n",
              "\n",
              "#sk-container-id-4 div.sk-serial {\n",
              "  display: flex;\n",
              "  flex-direction: column;\n",
              "  align-items: center;\n",
              "  background-color: var(--sklearn-color-background);\n",
              "  padding-right: 1em;\n",
              "  padding-left: 1em;\n",
              "}\n",
              "\n",
              "\n",
              "/* Toggleable style: style used for estimator/Pipeline/ColumnTransformer box that is\n",
              "clickable and can be expanded/collapsed.\n",
              "- Pipeline and ColumnTransformer use this feature and define the default style\n",
              "- Estimators will overwrite some part of the style using the `sk-estimator` class\n",
              "*/\n",
              "\n",
              "/* Pipeline and ColumnTransformer style (default) */\n",
              "\n",
              "#sk-container-id-4 div.sk-toggleable {\n",
              "  /* Default theme specific background. It is overwritten whether we have a\n",
              "  specific estimator or a Pipeline/ColumnTransformer */\n",
              "  background-color: var(--sklearn-color-background);\n",
              "}\n",
              "\n",
              "/* Toggleable label */\n",
              "#sk-container-id-4 label.sk-toggleable__label {\n",
              "  cursor: pointer;\n",
              "  display: flex;\n",
              "  width: 100%;\n",
              "  margin-bottom: 0;\n",
              "  padding: 0.5em;\n",
              "  box-sizing: border-box;\n",
              "  text-align: center;\n",
              "  align-items: start;\n",
              "  justify-content: space-between;\n",
              "  gap: 0.5em;\n",
              "}\n",
              "\n",
              "#sk-container-id-4 label.sk-toggleable__label .caption {\n",
              "  font-size: 0.6rem;\n",
              "  font-weight: lighter;\n",
              "  color: var(--sklearn-color-text-muted);\n",
              "}\n",
              "\n",
              "#sk-container-id-4 label.sk-toggleable__label-arrow:before {\n",
              "  /* Arrow on the left of the label */\n",
              "  content: \"▸\";\n",
              "  float: left;\n",
              "  margin-right: 0.25em;\n",
              "  color: var(--sklearn-color-icon);\n",
              "}\n",
              "\n",
              "#sk-container-id-4 label.sk-toggleable__label-arrow:hover:before {\n",
              "  color: var(--sklearn-color-text);\n",
              "}\n",
              "\n",
              "/* Toggleable content - dropdown */\n",
              "\n",
              "#sk-container-id-4 div.sk-toggleable__content {\n",
              "  max-height: 0;\n",
              "  max-width: 0;\n",
              "  overflow: hidden;\n",
              "  text-align: left;\n",
              "  /* unfitted */\n",
              "  background-color: var(--sklearn-color-unfitted-level-0);\n",
              "}\n",
              "\n",
              "#sk-container-id-4 div.sk-toggleable__content.fitted {\n",
              "  /* fitted */\n",
              "  background-color: var(--sklearn-color-fitted-level-0);\n",
              "}\n",
              "\n",
              "#sk-container-id-4 div.sk-toggleable__content pre {\n",
              "  margin: 0.2em;\n",
              "  border-radius: 0.25em;\n",
              "  color: var(--sklearn-color-text);\n",
              "  /* unfitted */\n",
              "  background-color: var(--sklearn-color-unfitted-level-0);\n",
              "}\n",
              "\n",
              "#sk-container-id-4 div.sk-toggleable__content.fitted pre {\n",
              "  /* unfitted */\n",
              "  background-color: var(--sklearn-color-fitted-level-0);\n",
              "}\n",
              "\n",
              "#sk-container-id-4 input.sk-toggleable__control:checked~div.sk-toggleable__content {\n",
              "  /* Expand drop-down */\n",
              "  max-height: 200px;\n",
              "  max-width: 100%;\n",
              "  overflow: auto;\n",
              "}\n",
              "\n",
              "#sk-container-id-4 input.sk-toggleable__control:checked~label.sk-toggleable__label-arrow:before {\n",
              "  content: \"▾\";\n",
              "}\n",
              "\n",
              "/* Pipeline/ColumnTransformer-specific style */\n",
              "\n",
              "#sk-container-id-4 div.sk-label input.sk-toggleable__control:checked~label.sk-toggleable__label {\n",
              "  color: var(--sklearn-color-text);\n",
              "  background-color: var(--sklearn-color-unfitted-level-2);\n",
              "}\n",
              "\n",
              "#sk-container-id-4 div.sk-label.fitted input.sk-toggleable__control:checked~label.sk-toggleable__label {\n",
              "  background-color: var(--sklearn-color-fitted-level-2);\n",
              "}\n",
              "\n",
              "/* Estimator-specific style */\n",
              "\n",
              "/* Colorize estimator box */\n",
              "#sk-container-id-4 div.sk-estimator input.sk-toggleable__control:checked~label.sk-toggleable__label {\n",
              "  /* unfitted */\n",
              "  background-color: var(--sklearn-color-unfitted-level-2);\n",
              "}\n",
              "\n",
              "#sk-container-id-4 div.sk-estimator.fitted input.sk-toggleable__control:checked~label.sk-toggleable__label {\n",
              "  /* fitted */\n",
              "  background-color: var(--sklearn-color-fitted-level-2);\n",
              "}\n",
              "\n",
              "#sk-container-id-4 div.sk-label label.sk-toggleable__label,\n",
              "#sk-container-id-4 div.sk-label label {\n",
              "  /* The background is the default theme color */\n",
              "  color: var(--sklearn-color-text-on-default-background);\n",
              "}\n",
              "\n",
              "/* On hover, darken the color of the background */\n",
              "#sk-container-id-4 div.sk-label:hover label.sk-toggleable__label {\n",
              "  color: var(--sklearn-color-text);\n",
              "  background-color: var(--sklearn-color-unfitted-level-2);\n",
              "}\n",
              "\n",
              "/* Label box, darken color on hover, fitted */\n",
              "#sk-container-id-4 div.sk-label.fitted:hover label.sk-toggleable__label.fitted {\n",
              "  color: var(--sklearn-color-text);\n",
              "  background-color: var(--sklearn-color-fitted-level-2);\n",
              "}\n",
              "\n",
              "/* Estimator label */\n",
              "\n",
              "#sk-container-id-4 div.sk-label label {\n",
              "  font-family: monospace;\n",
              "  font-weight: bold;\n",
              "  display: inline-block;\n",
              "  line-height: 1.2em;\n",
              "}\n",
              "\n",
              "#sk-container-id-4 div.sk-label-container {\n",
              "  text-align: center;\n",
              "}\n",
              "\n",
              "/* Estimator-specific */\n",
              "#sk-container-id-4 div.sk-estimator {\n",
              "  font-family: monospace;\n",
              "  border: 1px dotted var(--sklearn-color-border-box);\n",
              "  border-radius: 0.25em;\n",
              "  box-sizing: border-box;\n",
              "  margin-bottom: 0.5em;\n",
              "  /* unfitted */\n",
              "  background-color: var(--sklearn-color-unfitted-level-0);\n",
              "}\n",
              "\n",
              "#sk-container-id-4 div.sk-estimator.fitted {\n",
              "  /* fitted */\n",
              "  background-color: var(--sklearn-color-fitted-level-0);\n",
              "}\n",
              "\n",
              "/* on hover */\n",
              "#sk-container-id-4 div.sk-estimator:hover {\n",
              "  /* unfitted */\n",
              "  background-color: var(--sklearn-color-unfitted-level-2);\n",
              "}\n",
              "\n",
              "#sk-container-id-4 div.sk-estimator.fitted:hover {\n",
              "  /* fitted */\n",
              "  background-color: var(--sklearn-color-fitted-level-2);\n",
              "}\n",
              "\n",
              "/* Specification for estimator info (e.g. \"i\" and \"?\") */\n",
              "\n",
              "/* Common style for \"i\" and \"?\" */\n",
              "\n",
              ".sk-estimator-doc-link,\n",
              "a:link.sk-estimator-doc-link,\n",
              "a:visited.sk-estimator-doc-link {\n",
              "  float: right;\n",
              "  font-size: smaller;\n",
              "  line-height: 1em;\n",
              "  font-family: monospace;\n",
              "  background-color: var(--sklearn-color-background);\n",
              "  border-radius: 1em;\n",
              "  height: 1em;\n",
              "  width: 1em;\n",
              "  text-decoration: none !important;\n",
              "  margin-left: 0.5em;\n",
              "  text-align: center;\n",
              "  /* unfitted */\n",
              "  border: var(--sklearn-color-unfitted-level-1) 1pt solid;\n",
              "  color: var(--sklearn-color-unfitted-level-1);\n",
              "}\n",
              "\n",
              ".sk-estimator-doc-link.fitted,\n",
              "a:link.sk-estimator-doc-link.fitted,\n",
              "a:visited.sk-estimator-doc-link.fitted {\n",
              "  /* fitted */\n",
              "  border: var(--sklearn-color-fitted-level-1) 1pt solid;\n",
              "  color: var(--sklearn-color-fitted-level-1);\n",
              "}\n",
              "\n",
              "/* On hover */\n",
              "div.sk-estimator:hover .sk-estimator-doc-link:hover,\n",
              ".sk-estimator-doc-link:hover,\n",
              "div.sk-label-container:hover .sk-estimator-doc-link:hover,\n",
              ".sk-estimator-doc-link:hover {\n",
              "  /* unfitted */\n",
              "  background-color: var(--sklearn-color-unfitted-level-3);\n",
              "  color: var(--sklearn-color-background);\n",
              "  text-decoration: none;\n",
              "}\n",
              "\n",
              "div.sk-estimator.fitted:hover .sk-estimator-doc-link.fitted:hover,\n",
              ".sk-estimator-doc-link.fitted:hover,\n",
              "div.sk-label-container:hover .sk-estimator-doc-link.fitted:hover,\n",
              ".sk-estimator-doc-link.fitted:hover {\n",
              "  /* fitted */\n",
              "  background-color: var(--sklearn-color-fitted-level-3);\n",
              "  color: var(--sklearn-color-background);\n",
              "  text-decoration: none;\n",
              "}\n",
              "\n",
              "/* Span, style for the box shown on hovering the info icon */\n",
              ".sk-estimator-doc-link span {\n",
              "  display: none;\n",
              "  z-index: 9999;\n",
              "  position: relative;\n",
              "  font-weight: normal;\n",
              "  right: .2ex;\n",
              "  padding: .5ex;\n",
              "  margin: .5ex;\n",
              "  width: min-content;\n",
              "  min-width: 20ex;\n",
              "  max-width: 50ex;\n",
              "  color: var(--sklearn-color-text);\n",
              "  box-shadow: 2pt 2pt 4pt #999;\n",
              "  /* unfitted */\n",
              "  background: var(--sklearn-color-unfitted-level-0);\n",
              "  border: .5pt solid var(--sklearn-color-unfitted-level-3);\n",
              "}\n",
              "\n",
              ".sk-estimator-doc-link.fitted span {\n",
              "  /* fitted */\n",
              "  background: var(--sklearn-color-fitted-level-0);\n",
              "  border: var(--sklearn-color-fitted-level-3);\n",
              "}\n",
              "\n",
              ".sk-estimator-doc-link:hover span {\n",
              "  display: block;\n",
              "}\n",
              "\n",
              "/* \"?\"-specific style due to the `<a>` HTML tag */\n",
              "\n",
              "#sk-container-id-4 a.estimator_doc_link {\n",
              "  float: right;\n",
              "  font-size: 1rem;\n",
              "  line-height: 1em;\n",
              "  font-family: monospace;\n",
              "  background-color: var(--sklearn-color-background);\n",
              "  border-radius: 1rem;\n",
              "  height: 1rem;\n",
              "  width: 1rem;\n",
              "  text-decoration: none;\n",
              "  /* unfitted */\n",
              "  color: var(--sklearn-color-unfitted-level-1);\n",
              "  border: var(--sklearn-color-unfitted-level-1) 1pt solid;\n",
              "}\n",
              "\n",
              "#sk-container-id-4 a.estimator_doc_link.fitted {\n",
              "  /* fitted */\n",
              "  border: var(--sklearn-color-fitted-level-1) 1pt solid;\n",
              "  color: var(--sklearn-color-fitted-level-1);\n",
              "}\n",
              "\n",
              "/* On hover */\n",
              "#sk-container-id-4 a.estimator_doc_link:hover {\n",
              "  /* unfitted */\n",
              "  background-color: var(--sklearn-color-unfitted-level-3);\n",
              "  color: var(--sklearn-color-background);\n",
              "  text-decoration: none;\n",
              "}\n",
              "\n",
              "#sk-container-id-4 a.estimator_doc_link.fitted:hover {\n",
              "  /* fitted */\n",
              "  background-color: var(--sklearn-color-fitted-level-3);\n",
              "}\n",
              "</style><div id=\"sk-container-id-4\" class=\"sk-top-container\"><div class=\"sk-text-repr-fallback\"><pre>GaussianNB()</pre><b>In a Jupyter environment, please rerun this cell to show the HTML representation or trust the notebook. <br />On GitHub, the HTML representation is unable to render, please try loading this page with nbviewer.org.</b></div><div class=\"sk-container\" hidden><div class=\"sk-item\"><div class=\"sk-estimator fitted sk-toggleable\"><input class=\"sk-toggleable__control sk-hidden--visually\" id=\"sk-estimator-id-4\" type=\"checkbox\" checked><label for=\"sk-estimator-id-4\" class=\"sk-toggleable__label fitted sk-toggleable__label-arrow\"><div><div>GaussianNB</div></div><div><a class=\"sk-estimator-doc-link fitted\" rel=\"noreferrer\" target=\"_blank\" href=\"https://scikit-learn.org/1.6/modules/generated/sklearn.naive_bayes.GaussianNB.html\">?<span>Documentation for GaussianNB</span></a><span class=\"sk-estimator-doc-link fitted\">i<span>Fitted</span></span></div></label><div class=\"sk-toggleable__content fitted\"><pre>GaussianNB()</pre></div> </div></div></div></div>"
            ]
          },
          "metadata": {},
          "execution_count": 62
        }
      ],
      "source": [
        "model.fit(X_train,Y_train)"
      ]
    },
    {
      "cell_type": "markdown",
      "id": "a5b28149",
      "metadata": {
        "id": "a5b28149"
      },
      "source": [
        "**Predict on the test features, and dont forget to inverse transform!**"
      ]
    },
    {
      "cell_type": "code",
      "execution_count": null,
      "id": "b087b88d",
      "metadata": {
        "id": "b087b88d",
        "colab": {
          "base_uri": "https://localhost:8080/"
        },
        "outputId": "d8068a1f-83c9-4664-e9e4-0b8483ce5ee6"
      },
      "outputs": [
        {
          "output_type": "stream",
          "name": "stdout",
          "text": [
            "['Sadness' 'Anger' 'Anger' 'Boredom' 'Anger' 'Boredom' 'Sadness' 'Boredom'\n",
            " 'Sadness' 'Boredom' 'Happiness' 'Happiness' 'Happiness' 'Boredom'\n",
            " 'Happiness' 'Boredom' 'Anger' 'Anger' 'Happiness' 'Anger' 'Happiness'\n",
            " 'Happiness' 'Boredom' 'Anger' 'Boredom' 'Happiness' 'Anger' 'Anger'\n",
            " 'Happiness' 'Happiness' 'Anger' 'Boredom' 'Boredom' 'Happiness'\n",
            " 'Happiness' 'Happiness' 'Anger' 'Happiness' 'Happiness' 'Boredom'\n",
            " 'Happiness' 'Boredom' 'Happiness' 'Sadness' 'Happiness' 'Boredom' 'Anger'\n",
            " 'Happiness' 'Happiness' 'Happiness' 'Happiness' 'Boredom' 'Anger'\n",
            " 'Sadness' 'Anger' 'Boredom' 'Happiness' 'Boredom' 'Anger' 'Boredom'\n",
            " 'Sadness' 'Boredom' 'Boredom' 'Anger' 'Anger' 'Anger' 'Anger' 'Happiness'\n",
            " 'Anger' 'Boredom' 'Boredom' 'Anger' 'Anger' 'Boredom' 'Anger' 'Anger'\n",
            " 'Anger' 'Happiness' 'Sadness' 'Anger' 'Anger' 'Boredom' 'Happiness'\n",
            " 'Happiness' 'Boredom' 'Boredom' 'Sadness' 'Happiness' 'Happiness' 'Anger'\n",
            " 'Happiness' 'Boredom' 'Happiness' 'Anger' 'Happiness' 'Happiness' 'Anger'\n",
            " 'Boredom' 'Happiness' 'Happiness' 'Anger' 'Boredom' 'Anger' 'Anger'\n",
            " 'Sadness' 'Anger' 'Boredom' 'Anger' 'Happiness' 'Happiness' 'Anger'\n",
            " 'Happiness' 'Boredom' 'Anger' 'Anger' 'Anger' 'Sadness' 'Happiness'\n",
            " 'Anger' 'Boredom' 'Anger' 'Boredom' 'Anger' 'Anger' 'Boredom' 'Happiness'\n",
            " 'Happiness' 'Happiness' 'Happiness' 'Boredom' 'Boredom' 'Boredom'\n",
            " 'Happiness' 'Anger' 'Boredom' 'Anger' 'Happiness' 'Anger' 'Boredom'\n",
            " 'Anger' 'Boredom' 'Happiness' 'Boredom' 'Anger' 'Boredom' 'Sadness'\n",
            " 'Anger' 'Happiness' 'Boredom' 'Anger' 'Anger' 'Happiness' 'Boredom'\n",
            " 'Anger' 'Boredom' 'Anger' 'Happiness' 'Anger' 'Happiness' 'Boredom'\n",
            " 'Anger' 'Happiness' 'Sadness' 'Happiness' 'Boredom' 'Boredom' 'Anger'\n",
            " 'Boredom' 'Happiness' 'Happiness' 'Boredom' 'Boredom' 'Boredom' 'Boredom'\n",
            " 'Anger' 'Boredom' 'Boredom' 'Sadness' 'Anger' 'Anger' 'Anger' 'Boredom'\n",
            " 'Happiness' 'Anger' 'Anger']\n"
          ]
        }
      ],
      "source": [
        "#ENTER YOUR CODE HERE\n",
        "Y_pred = model.predict(X_test)\n",
        "print(encoder.inverse_transform(Y_pred))"
      ]
    },
    {
      "cell_type": "markdown",
      "id": "fafa80dc",
      "metadata": {
        "id": "fafa80dc"
      },
      "source": [
        "**Finally, print the accuracy, confusion matrix and classification report.**"
      ]
    },
    {
      "cell_type": "code",
      "execution_count": null,
      "id": "398f1052",
      "metadata": {
        "id": "398f1052",
        "colab": {
          "base_uri": "https://localhost:8080/"
        },
        "outputId": "7df65e99-e467-4fd6-d0bd-f29338329087"
      },
      "outputs": [
        {
          "output_type": "stream",
          "name": "stdout",
          "text": [
            "0.4756756756756757\n"
          ]
        }
      ],
      "source": [
        "#ENTER YOUR CODE HERE\n",
        "print(accuracy_score(Y_pred,Y_test))"
      ]
    },
    {
      "cell_type": "code",
      "execution_count": null,
      "id": "1d638968",
      "metadata": {
        "colab": {
          "base_uri": "https://localhost:8080/"
        },
        "id": "1d638968",
        "outputId": "e6279e54-5f7f-4231-d92c-5d363c8b80e6"
      },
      "outputs": [
        {
          "output_type": "stream",
          "name": "stdout",
          "text": [
            "[[23  9  6  4 10 10]\n",
            " [ 0  0  0  0  0  0]\n",
            " [ 1 11 20  0 16  7]\n",
            " [ 1  8  0 37  5  4]\n",
            " [ 0  0  0  0  0  0]\n",
            " [ 0  3  0  0  2  8]]\n",
            "              precision    recall  f1-score   support\n",
            "\n",
            "           0       0.92      0.37      0.53        62\n",
            "           1       0.00      0.00      0.00         0\n",
            "           2       0.77      0.36      0.49        55\n",
            "           3       0.90      0.67      0.77        55\n",
            "           4       0.00      0.00      0.00         0\n",
            "           5       0.28      0.62      0.38        13\n",
            "\n",
            "    accuracy                           0.48       185\n",
            "   macro avg       0.48      0.34      0.36       185\n",
            "weighted avg       0.82      0.48      0.58       185\n",
            "\n"
          ]
        },
        {
          "output_type": "stream",
          "name": "stderr",
          "text": [
            "/usr/local/lib/python3.11/dist-packages/sklearn/metrics/_classification.py:1565: UndefinedMetricWarning: Recall is ill-defined and being set to 0.0 in labels with no true samples. Use `zero_division` parameter to control this behavior.\n",
            "  _warn_prf(average, modifier, f\"{metric.capitalize()} is\", len(result))\n",
            "/usr/local/lib/python3.11/dist-packages/sklearn/metrics/_classification.py:1565: UndefinedMetricWarning: Recall is ill-defined and being set to 0.0 in labels with no true samples. Use `zero_division` parameter to control this behavior.\n",
            "  _warn_prf(average, modifier, f\"{metric.capitalize()} is\", len(result))\n",
            "/usr/local/lib/python3.11/dist-packages/sklearn/metrics/_classification.py:1565: UndefinedMetricWarning: Recall is ill-defined and being set to 0.0 in labels with no true samples. Use `zero_division` parameter to control this behavior.\n",
            "  _warn_prf(average, modifier, f\"{metric.capitalize()} is\", len(result))\n"
          ]
        }
      ],
      "source": [
        "print(confusion_matrix(Y_pred,Y_test))\n",
        "print(classification_report(Y_pred,Y_test))"
      ]
    },
    {
      "cell_type": "markdown",
      "id": "2533df42",
      "metadata": {
        "id": "2533df42"
      },
      "source": [
        "### Now train a 'Decision Tree' and a 'Random Forest Generator' for the same classification problem.Feel free to play with the hyperparameters!\n",
        "\n",
        "### Report the accuracy score for each!"
      ]
    },
    {
      "cell_type": "markdown",
      "source": [
        "Decision Trees:"
      ],
      "metadata": {
        "id": "oRhyndo4bOtt"
      },
      "id": "oRhyndo4bOtt"
    },
    {
      "cell_type": "code",
      "source": [
        "from sklearn.tree import DecisionTreeClassifier\n",
        "clf = DecisionTreeClassifier()\n",
        "clf.fit(X_train,Y_train)\n",
        "Y_pred = clf.predict(X_test)\n",
        "print(accuracy_score(Y_pred,Y_test))"
      ],
      "metadata": {
        "colab": {
          "base_uri": "https://localhost:8080/"
        },
        "id": "wCbvoem1bOUa",
        "outputId": "3285c53e-8cdc-471e-b288-a9de88055524"
      },
      "id": "wCbvoem1bOUa",
      "execution_count": null,
      "outputs": [
        {
          "output_type": "stream",
          "name": "stdout",
          "text": [
            "0.9675675675675676\n"
          ]
        }
      ]
    },
    {
      "cell_type": "markdown",
      "source": [
        "Random forest generator:"
      ],
      "metadata": {
        "id": "vst3hZHmbhaE"
      },
      "id": "vst3hZHmbhaE"
    },
    {
      "cell_type": "code",
      "source": [
        "from sklearn.ensemble import RandomForestClassifier\n",
        "clf = RandomForestClassifier()\n",
        "clf.fit(X_train,Y_train)\n",
        "Y_pred = clf.predict(X_test)\n",
        "print(accuracy_score(Y_pred,Y_test))"
      ],
      "metadata": {
        "colab": {
          "base_uri": "https://localhost:8080/"
        },
        "id": "vQ00fxQtbkXH",
        "outputId": "5de802f5-f224-49de-c1fc-5b9f061ffd10"
      },
      "id": "vQ00fxQtbkXH",
      "execution_count": null,
      "outputs": [
        {
          "output_type": "stream",
          "name": "stdout",
          "text": [
            "0.9891891891891892\n"
          ]
        }
      ]
    },
    {
      "cell_type": "markdown",
      "id": "99c1fdc4",
      "metadata": {
        "id": "99c1fdc4"
      },
      "source": [
        "# GOOD JOB!"
      ]
    },
    {
      "cell_type": "markdown",
      "id": "8a63a552",
      "metadata": {
        "id": "8a63a552"
      },
      "source": [
        "#Artificial Neural Network Assignment\n",
        "###In this assignment you will be implementing various functions from scratch so as to learn how it functions before going on to use various libraries. Doing it honestly will help you a lot in you understanding of the topic. If you encounter difficulties or stuck somewhere go online and search, the possibility that you are encountering the problem first time in 8 billion people is very slim so mostly you will be able to find the solution. Happy learning! 😀"
      ]
    },
    {
      "cell_type": "code",
      "execution_count": 11,
      "id": "f677499d",
      "metadata": {
        "id": "f677499d"
      },
      "outputs": [],
      "source": [
        "import pandas as pd\n",
        "import numpy as np\n",
        "from matplotlib import pyplot as plt\n",
        "import seaborn as sns"
      ]
    },
    {
      "cell_type": "code",
      "execution_count": 12,
      "id": "5a8a944e",
      "metadata": {
        "id": "5a8a944e"
      },
      "outputs": [],
      "source": [
        "test = pd.read_csv('/content/mnist_test.csv')\n",
        "train = pd.read_csv('/content/mnist_train.csv')"
      ]
    },
    {
      "cell_type": "code",
      "execution_count": 15,
      "id": "5e873d9d",
      "metadata": {
        "id": "5e873d9d",
        "colab": {
          "base_uri": "https://localhost:8080/"
        },
        "outputId": "ce9fb7ea-1ac1-4441-d87b-aa4cf847c5ee"
      },
      "outputs": [
        {
          "output_type": "stream",
          "name": "stdout",
          "text": [
            "       0      1      2      3      4      5      6      7      8      9      \\\n",
            "1x1      0.0    0.0    0.0    0.0    0.0    0.0    0.0    0.0    0.0    0.0   \n",
            "1x2      0.0    0.0    0.0    0.0    0.0    0.0    0.0    0.0    0.0    0.0   \n",
            "1x3      0.0    0.0    0.0    0.0    0.0    0.0    0.0    0.0    0.0    0.0   \n",
            "1x4      0.0    0.0    0.0    0.0    0.0    0.0    0.0    0.0    0.0    0.0   \n",
            "1x5      0.0    0.0    0.0    0.0    0.0    0.0    0.0    0.0    0.0    0.0   \n",
            "...      ...    ...    ...    ...    ...    ...    ...    ...    ...    ...   \n",
            "28x24    0.0    0.0    0.0    0.0    0.0    0.0    0.0    0.0    0.0    0.0   \n",
            "28x25    0.0    0.0    0.0    0.0    0.0    0.0    0.0    0.0    0.0    0.0   \n",
            "28x26    0.0    0.0    0.0    0.0    0.0    0.0    0.0    0.0    0.0    0.0   \n",
            "28x27    0.0    0.0    0.0    0.0    0.0    0.0    0.0    0.0    0.0    0.0   \n",
            "28x28    0.0    0.0    0.0    0.0    0.0    0.0    0.0    0.0    0.0    0.0   \n",
            "\n",
            "       ...  59990  59991  59992  59993  59994  59995  59996  59997  59998  \\\n",
            "1x1    ...    0.0    0.0    0.0    0.0    0.0    0.0    0.0    0.0    0.0   \n",
            "1x2    ...    0.0    0.0    0.0    0.0    0.0    0.0    0.0    0.0    0.0   \n",
            "1x3    ...    0.0    0.0    0.0    0.0    0.0    0.0    0.0    0.0    0.0   \n",
            "1x4    ...    0.0    0.0    0.0    0.0    0.0    0.0    0.0    0.0    0.0   \n",
            "1x5    ...    0.0    0.0    0.0    0.0    0.0    0.0    0.0    0.0    0.0   \n",
            "...    ...    ...    ...    ...    ...    ...    ...    ...    ...    ...   \n",
            "28x24  ...    0.0    0.0    0.0    0.0    0.0    0.0    0.0    0.0    0.0   \n",
            "28x25  ...    0.0    0.0    0.0    0.0    0.0    0.0    0.0    0.0    0.0   \n",
            "28x26  ...    0.0    0.0    0.0    0.0    0.0    0.0    0.0    0.0    0.0   \n",
            "28x27  ...    0.0    0.0    0.0    0.0    0.0    0.0    0.0    0.0    0.0   \n",
            "28x28  ...    0.0    0.0    0.0    0.0    0.0    0.0    0.0    0.0    0.0   \n",
            "\n",
            "       59999  \n",
            "1x1      0.0  \n",
            "1x2      0.0  \n",
            "1x3      0.0  \n",
            "1x4      0.0  \n",
            "1x5      0.0  \n",
            "...      ...  \n",
            "28x24    0.0  \n",
            "28x25    0.0  \n",
            "28x26    0.0  \n",
            "28x27    0.0  \n",
            "28x28    0.0  \n",
            "\n",
            "[784 rows x 60000 columns]\n",
            "0        5\n",
            "1        0\n",
            "2        4\n",
            "3        1\n",
            "4        9\n",
            "        ..\n",
            "59995    8\n",
            "59996    3\n",
            "59997    5\n",
            "59998    6\n",
            "59999    8\n",
            "Name: label, Length: 60000, dtype: int64\n"
          ]
        }
      ],
      "source": [
        "x_train = train.drop('label', axis=1)\n",
        "x_train = x_train.T # Remove this line\n",
        "x_train = x_train/255\n",
        "y_train = train.label\n",
        "\n",
        "x_test = test.drop('label',axis=1)\n",
        "x_test = x_test.T # This transposition is for the visualization later, keep it.\n",
        "y_test = test.label\n",
        "print(x_train)\n",
        "print(y_train)"
      ]
    },
    {
      "cell_type": "code",
      "execution_count": 16,
      "id": "42b29c92",
      "metadata": {
        "id": "42b29c92",
        "colab": {
          "base_uri": "https://localhost:8080/",
          "height": 455
        },
        "outputId": "e262c3be-2147-4ad6-a52b-b9b394a5d36f"
      },
      "outputs": [
        {
          "output_type": "display_data",
          "data": {
            "text/plain": [
              "<Figure size 1000x1500 with 10 Axes>"
            ],
            "image/png": "[encoded data removed]"
          },
          "metadata": {}
        }
      ],
      "source": [
        "X_train_reshaped = x_train.T.values.reshape(-1, 28, 28)\n",
        "plt.figure(figsize=(10, 15))\n",
        "for i in range(10):\n",
        "    plt.subplot(5, 5, i+1)\n",
        "    plt.grid(False)\n",
        "    plt.imshow(X_train_reshaped[i])\n",
        "    plt.xlabel(y_train.iloc[i])"
      ]
    },
    {
      "cell_type": "markdown",
      "id": "cedea7ba",
      "metadata": {
        "id": "cedea7ba"
      },
      "source": [
        "The remainder on dividing your roll number by 4 will dictate which function you have to complete but ofcourse if you wish to do more and there's no stopping you.\\\n",
        "Roll_number % 6  \n",
        "                  0:RELU\\\n",
        "                  1:softmax\\\n",
        "                  2:forward_propogation\\\n",
        "                  3:one_hot_encode\\\n",
        "                  4:total_loss\\\n",
        "                  5:backward_propagation"
      ]
    },
    {
      "cell_type": "code",
      "source": [
        "class ANN:\n",
        "    def __init__(self, input_size, output_size, learning_rate, num_layers, num_of_nodes_layers):\n",
        "        self.input_size = input_size\n",
        "        self.output_size = output_size\n",
        "        self.learning_rate = learning_rate\n",
        "        self.num_layers = num_layers\n",
        "        self.num_of_nodes_layers = num_of_nodes_layers\n",
        "\n",
        "        # Complete layer structure: input -> hidden layers -> output\n",
        "        layer_sizes = [self.input_size] + self.num_of_nodes_layers + [self.output_size]\n",
        "\n",
        "        # Initialize weights and biases\n",
        "        self.weights = []\n",
        "        self.biases = []\n",
        "        for i in range(len(layer_sizes) - 1):\n",
        "            self.weights.append(np.random.randn(layer_sizes[i], layer_sizes[i+1]) * 0.01)\n",
        "            self.biases.append(np.zeros((1, layer_sizes[i+1])))\n",
        "\n",
        "    def relu(self, x):\n",
        "        return np.maximum(0, x)\n",
        "\n",
        "    def relu_derivative(self, x):\n",
        "        return (x > 0).astype(float)\n",
        "\n",
        "    def softmax(self, x):\n",
        "        exp_x = np.exp(x - np.max(x, axis=1, keepdims=True))  # Stability fix\n",
        "        return exp_x / np.sum(exp_x, axis=1, keepdims=True)\n",
        "\n",
        "    def forward_propagation(self, x):\n",
        "        self.activations = [x]\n",
        "        self.zs = []\n",
        "\n",
        "        for i in range(len(self.weights)):\n",
        "            z = np.dot(self.activations[-1], self.weights[i]) + self.biases[i]\n",
        "            self.zs.append(z)\n",
        "            if i == len(self.weights) - 1:\n",
        "                a = self.softmax(z)\n",
        "            else:\n",
        "                a = self.relu(z)\n",
        "            self.activations.append(a)\n",
        "\n",
        "        return self.activations[-1]\n",
        "\n",
        "    def back_propagation(self, x, y_true):\n",
        "        m = y_true.shape[0]\n",
        "        y_pred = self.forward_propagation(x)\n",
        "        loss = y_pred - y_true\n",
        "\n",
        "        # Output layer gradient\n",
        "        dw = np.dot(self.activations[-2].T, loss) / m\n",
        "        db = np.sum(loss, axis=0, keepdims=True) / m\n",
        "        self.weights[-1] -= self.learning_rate * dw\n",
        "        self.biases[-1] -= self.learning_rate * db\n",
        "\n",
        "        # Backpropagate through hidden layers\n",
        "        delta = loss\n",
        "        for i in reversed(range(len(self.weights) - 1)):\n",
        "            delta = np.dot(delta, self.weights[i+1].T) * self.relu_derivative(self.zs[i])\n",
        "            dw = np.dot(self.activations[i].T, delta) / m\n",
        "            db = np.sum(delta, axis=0, keepdims=True) / m\n",
        "            self.weights[i] -= self.learning_rate * dw\n",
        "            self.biases[i] -= self.learning_rate * db\n",
        "\n",
        "        return loss\n",
        "\n",
        "    def cross_entropy_loss(self, y_true, y_pred):\n",
        "        eps = 1e-15\n",
        "        y_pred = np.clip(y_pred, eps, 1 - eps)\n",
        "        return -np.sum(y_true * np.log(y_pred)) / y_true.shape[0]\n",
        "\n",
        "    def train(self, x_train, y_train, num_iterations):\n",
        "        for i in range(num_iterations):\n",
        "            loss = self.back_propagation(x_train, y_train)\n",
        "            if i % 100 == 0 or i == num_iterations - 1:\n",
        "                y_pred = self.forward_propagation(x_train)\n",
        "                cost = self.cross_entropy_loss(y_train, y_pred)\n",
        "                print(f\"Iteration {i + 1}/{num_iterations} - Loss: {cost:.4f}\")\n",
        "\n",
        "    def predict(self, x_test):\n",
        "        y_test = self.forward_propagation(x_test)\n",
        "        return y_test"
      ],
      "metadata": {
        "id": "yoSlxKpcNRu-"
      },
      "id": "yoSlxKpcNRu-",
      "execution_count": 1,
      "outputs": []
    },
    {
      "cell_type": "code",
      "execution_count": 19,
      "id": "5599070e",
      "metadata": {
        "id": "5599070e",
        "colab": {
          "base_uri": "https://localhost:8080/"
        },
        "outputId": "b6ea964d-47b0-485f-8a51-97730a430e6f"
      },
      "outputs": [
        {
          "output_type": "stream",
          "name": "stdout",
          "text": [
            "Iteration 1/10 - Loss: 2.3025\n",
            "Iteration 10/10 - Loss: 2.3022\n"
          ]
        }
      ],
      "source": [
        "# One-hot encode the training labels\n",
        "import pandas as pd\n",
        "y_train_encoded = pd.get_dummies(y_train).reindex(columns=range(10), fill_value=0).values\n",
        "model = ANN(input_size=784, output_size=10, learning_rate=0.15, num_layers=3, num_of_nodes_layers=[64, 32, 16])\n",
        "model.train(x_train.T, y_train_encoded, num_iterations=10)"
      ]
    },
    {
      "cell_type": "code",
      "execution_count": 27,
      "id": "674e838c",
      "metadata": {
        "id": "674e838c",
        "colab": {
          "base_uri": "https://localhost:8080/"
        },
        "outputId": "155bba17-f815-4325-9507-64d60f43cc23"
      },
      "outputs": [
        {
          "output_type": "stream",
          "name": "stdout",
          "text": [
            "Accuracy: 10.32 %\n"
          ]
        }
      ],
      "source": [
        "m = model.predict(x_test.T)\n",
        "b = m.shape\n",
        "c = int(b[0])\n",
        "d = np.array(y_test)\n",
        "d = d.T\n",
        "t=0\n",
        "for i in range(c):\n",
        "    if(np.argmax(m[i]) + 1==d[i]):\n",
        "        t=t+1\n",
        "print('Accuracy:',t/c *100, '%')"
      ]
    },
    {
      "cell_type": "code",
      "execution_count": 33,
      "id": "03d393c1",
      "metadata": {
        "id": "03d393c1",
        "colab": {
          "base_uri": "https://localhost:8080/",
          "height": 483
        },
        "outputId": "b1b38949-a176-4a62-d6e3-fd7f094fdb85"
      },
      "outputs": [
        {
          "output_type": "stream",
          "name": "stdout",
          "text": [
            "2\n"
          ]
        },
        {
          "output_type": "display_data",
          "data": {
            "text/plain": [
              "<Figure size 500x500 with 1 Axes>"
            ],
            "image/png": "[encoded data removed]"
          },
          "metadata": {}
        }
      ],
      "source": [
        "X_test_reshaped = x_test.T.values.reshape(-1, 28, 28)\n",
        "plt.figure(figsize=(5, 5))\n",
        "i = 1\n",
        "print(d[i])\n",
        "plt.imshow(X_test_reshaped[i])\n",
        "plt.xlabel(np.argmax(m[i])+1);"
      ]
    }
  ],
  "metadata": {
    "colab": {
      "provenance": []
    },
    "language_info": {
      "name": "python"
    },
    "kernelspec": {
      "name": "python3",
      "display_name": "Python 3"
    }
  },
  "nbformat": 4,
  "nbformat_minor": 5
}